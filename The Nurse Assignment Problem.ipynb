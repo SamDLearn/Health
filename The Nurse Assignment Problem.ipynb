{
    "cells": [
        {
            "metadata": {},
            "cell_type": "markdown",
            "source": "# The Nurse Assignment Problem\n\nThis notebook is an example of how **Decision Optimization** can help to prescribe decisions for a complex constrained problem.\n\nWhen you finish this tutorial, you'll have a foundational knowledge of _Prescriptive Analytics_.\n\n>This notebook requires the Commercial Edition of CPLEX engines, which is included in the Default Python 3.6 XS + DO in Watson Studio.\n\n\nTable of contents:\n\n-  [Describe the business problem](#Describe-the-business-problem)\n*  [How decision optimization (prescriptive analytics) can help](#How--decision-optimization-can-help)\n*  [Use decision optimization](#Use-decision-optimization)\n    *  [Step 1: Download the library](#Step-1:-Download-the-library)\n    *  [Step 2: Set up the engines](#Step-2:-Set-up-the-prescriptive-engine)\n    -  [Step 3: Model the data](#Step-3:-Model-the-data)\n    *  [Step 4: Prepare the data](#Step-4:-Prepare-the-data)\n    -  [Step 5: Set up the prescriptive model](#Step-5:-Set-up-the-prescriptive-model)\n        * [Define the decision variables](#Define-the-decision-variables)\n        * [Express the business constraints](#Express-the-business-constraints)\n        * [Express the objective](#Express-the-objective)\n        * [Solve with the Decision Optimization solve service](#Solve-with-the-Decision-Optimization-solve-service)\n    *  [Step 6: Investigate the solution and run an example analysis](#Step-6:-Investigate-the-solution-and-then-run-an-example-analysis)\n*  [Summary](#Summary)\n\n****"
        },
        {
            "metadata": {},
            "cell_type": "markdown",
            "source": "## Describe the business problem\n\nThis notebook describes how to use CPLEX Modeling for Python together with *pandas* to\nmanage the assignment of nurses to shifts in a hospital.\n\nNurses must be assigned to hospital shifts in accordance with various skill and staffing constraints.\n\nThe goal of the model is to find an efficient balance between the different objectives:\n\n* Minimize the overall cost of the plan and\n* Assign shifts as fairly as possible.\n"
        },
        {
            "metadata": {},
            "cell_type": "markdown",
            "source": "## How  decision optimization can help\n\n* Prescriptive analytics (decision optimization) technology recommends actions that are based on desired outcomes.  It takes into account specific scenarios, resources, and knowledge of past and current events. With this insight, your organization can make better decisions and have greater control of business outcomes.  \n\n* Prescriptive analytics is the next step on the path to insight-based actions. It creates value through synergy with predictive analytics, which analyzes data to predict future outcomes.  \n\n* Prescriptive analytics takes that insight to the next level by suggesting the optimal way to handle that future situation. Organizations that can act fast in dynamic conditions and make superior decisions in uncertain environments gain a strong competitive advantage.  \n<br/>\n\n<u>With prescriptive analytics, you can:</u> \n\n* Automate the complex decisions and trade-offs to better manage your limited resources.\n* Take advantage of a future opportunity or mitigate a future risk.\n* Proactively update recommendations based on changing events.\n* Meet operational goals, increase customer loyalty, prevent threats and fraud, and optimize business processes."
        },
        {
            "metadata": {},
            "cell_type": "markdown",
            "source": "## Use decision optimization"
        },
        {
            "metadata": {},
            "cell_type": "markdown",
            "source": "### Step 1: Import the docplex package \n\nThis package is presintalled on Watson Studio."
        },
        {
            "metadata": {},
            "cell_type": "code",
            "source": "import sys\nimport docplex.mp\n",
            "execution_count": 1,
            "outputs": []
        },
        {
            "metadata": {},
            "cell_type": "markdown",
            "source": "### Step 2: Model the data\n\nThe input data consists of several tables:\n\n* The Departments table lists all departments in the scope of the assignment.\n* The Skills table list all skills.\n* The Shifts table lists all shifts to be staffed. A shift contains a department, a day in the week, plus the start and end times.\n* The Nurses table lists all nurses, identified by their names.\n* The NurseSkills table gives the skills of each nurse.\n* The SkillRequirements table lists the minimum number of persons required for a given department and skill.\n* The NurseVacations table lists days off for each nurse.\n* The NurseAssociations table lists pairs of nurses who wish to work together.\n* The NurseIncompatibilities table lists pairs of nurses who do not want to work together."
        },
        {
            "metadata": {},
            "cell_type": "markdown",
            "source": "#### Loading data from Excel with pandas\n\nWe load the data from an Excel file using *pandas*.\nEach sheet is read into a separate *pandas* DataFrame."
        },
        {
            "metadata": {},
            "cell_type": "code",
            "source": "# This notebook requires pandas to work\nfrom io import StringIO\nimport json\nimport pandas as pd\nfrom pandas import DataFrame\n\n# Make sure that xlrd package, which is a pandas optional dependency, is installed\n# This package is required for Excel I/O\ntry:\n    import xlrd\nexcept:\n    if hasattr(sys, 'real_prefix'):\n        #we are in a virtual env.\n        !pip install xlrd \n    else:\n        !pip install --user xlrd",
            "execution_count": 2,
            "outputs": []
        },
        {
            "metadata": {},
            "cell_type": "code",
            "source": "\n# Use pandas to read the file, one tab for each table.\nnurse_xls_file = pd.ExcelFile(\"https://dataplatform.cloud.ibm.com/data/exchange-api/v1/entries/2505b070a22403aac9f84884d315219e/data?accessKey=38990e0e17b15be6df05d384006a1d06\")\ndf_skills = nurse_xls_file.parse('Skills')\ndf_depts  = nurse_xls_file.parse('Departments')\ndf_shifts = nurse_xls_file.parse('Shifts')\n# Rename df_shifts index\ndf_shifts.index.name = 'shiftId'\n\n# Index is column 0: name\ndf_nurses = nurse_xls_file.parse('Nurses', header=0, index_col=0)\ndf_nurse_skilles = nurse_xls_file.parse('NurseSkills')\ndf_vacations = nurse_xls_file.parse('NurseVacations')\ndf_associations = nurse_xls_file.parse('NurseAssociations')\ndf_incompatibilities = nurse_xls_file.parse('NurseIncompatibilities')\n\n# Display the nurses dataframe\nprint(\"#nurses = {}\".format(len(df_nurses)))\nprint(\"#shifts = {}\".format(len(df_shifts)))\nprint(\"#vacations = {}\".format(len(df_vacations)))",
            "execution_count": 3,
            "outputs": [
                {
                    "name": "stdout",
                    "output_type": "stream",
                    "text": "#nurses = 32\n#shifts = 41\n#vacations = 59\n"
                }
            ]
        },
        {
            "metadata": {},
            "cell_type": "markdown",
            "source": "In addition, we introduce some extra global data:\n\n* The maximum work time for each nurse.\n* The maximum and minimum number of shifts worked by a nurse in a week."
        },
        {
            "metadata": {},
            "cell_type": "code",
            "source": "# maximum work time (in hours)\nmax_work_time = 40\n\n# maximum number of shifts worked in a week.\nmax_nb_shifts = 5",
            "execution_count": 4,
            "outputs": []
        },
        {
            "metadata": {},
            "cell_type": "markdown",
            "source": "Shifts are stored in a separate DataFrame."
        },
        {
            "metadata": {},
            "cell_type": "code",
            "source": "df_shifts",
            "execution_count": 5,
            "outputs": [
                {
                    "data": {
                        "text/html": "<div>\n<style scoped>\n    .dataframe tbody tr th:only-of-type {\n        vertical-align: middle;\n    }\n\n    .dataframe tbody tr th {\n        vertical-align: top;\n    }\n\n    .dataframe thead th {\n        text-align: right;\n    }\n</style>\n<table border=\"1\" class=\"dataframe\">\n  <thead>\n    <tr style=\"text-align: right;\">\n      <th></th>\n      <th>department</th>\n      <th>day</th>\n      <th>start_time</th>\n      <th>end_time</th>\n      <th>min_req</th>\n      <th>max_req</th>\n    </tr>\n    <tr>\n      <th>shiftId</th>\n      <th></th>\n      <th></th>\n      <th></th>\n      <th></th>\n      <th></th>\n      <th></th>\n    </tr>\n  </thead>\n  <tbody>\n    <tr>\n      <th>0</th>\n      <td>Emergency</td>\n      <td>Monday</td>\n      <td>2</td>\n      <td>8</td>\n      <td>3</td>\n      <td>5</td>\n    </tr>\n    <tr>\n      <th>1</th>\n      <td>Emergency</td>\n      <td>Monday</td>\n      <td>8</td>\n      <td>12</td>\n      <td>4</td>\n      <td>7</td>\n    </tr>\n    <tr>\n      <th>2</th>\n      <td>Emergency</td>\n      <td>Monday</td>\n      <td>12</td>\n      <td>18</td>\n      <td>2</td>\n      <td>5</td>\n    </tr>\n    <tr>\n      <th>3</th>\n      <td>Emergency</td>\n      <td>Monday</td>\n      <td>18</td>\n      <td>2</td>\n      <td>3</td>\n      <td>7</td>\n    </tr>\n    <tr>\n      <th>4</th>\n      <td>Consultation</td>\n      <td>Monday</td>\n      <td>8</td>\n      <td>12</td>\n      <td>10</td>\n      <td>13</td>\n    </tr>\n    <tr>\n      <th>5</th>\n      <td>Consultation</td>\n      <td>Monday</td>\n      <td>12</td>\n      <td>18</td>\n      <td>8</td>\n      <td>12</td>\n    </tr>\n    <tr>\n      <th>6</th>\n      <td>Cardiac Care</td>\n      <td>Monday</td>\n      <td>8</td>\n      <td>12</td>\n      <td>10</td>\n      <td>13</td>\n    </tr>\n    <tr>\n      <th>7</th>\n      <td>Cardiac Care</td>\n      <td>Monday</td>\n      <td>12</td>\n      <td>18</td>\n      <td>8</td>\n      <td>12</td>\n    </tr>\n    <tr>\n      <th>8</th>\n      <td>Emergency</td>\n      <td>Tuesday</td>\n      <td>8</td>\n      <td>12</td>\n      <td>4</td>\n      <td>7</td>\n    </tr>\n    <tr>\n      <th>9</th>\n      <td>Emergency</td>\n      <td>Tuesday</td>\n      <td>12</td>\n      <td>18</td>\n      <td>2</td>\n      <td>5</td>\n    </tr>\n    <tr>\n      <th>10</th>\n      <td>Emergency</td>\n      <td>Tuesday</td>\n      <td>18</td>\n      <td>2</td>\n      <td>3</td>\n      <td>7</td>\n    </tr>\n    <tr>\n      <th>11</th>\n      <td>Consultation</td>\n      <td>Tuesday</td>\n      <td>8</td>\n      <td>12</td>\n      <td>10</td>\n      <td>13</td>\n    </tr>\n    <tr>\n      <th>12</th>\n      <td>Consultation</td>\n      <td>Tuesday</td>\n      <td>12</td>\n      <td>18</td>\n      <td>8</td>\n      <td>12</td>\n    </tr>\n    <tr>\n      <th>13</th>\n      <td>Cardiac Care</td>\n      <td>Tuesday</td>\n      <td>8</td>\n      <td>12</td>\n      <td>4</td>\n      <td>7</td>\n    </tr>\n    <tr>\n      <th>14</th>\n      <td>Cardiac Care</td>\n      <td>Tuesday</td>\n      <td>12</td>\n      <td>18</td>\n      <td>2</td>\n      <td>5</td>\n    </tr>\n    <tr>\n      <th>15</th>\n      <td>Cardiac Care</td>\n      <td>Tuesday</td>\n      <td>18</td>\n      <td>2</td>\n      <td>3</td>\n      <td>7</td>\n    </tr>\n    <tr>\n      <th>16</th>\n      <td>Emergency</td>\n      <td>Wednesday</td>\n      <td>2</td>\n      <td>8</td>\n      <td>3</td>\n      <td>5</td>\n    </tr>\n    <tr>\n      <th>17</th>\n      <td>Emergency</td>\n      <td>Wednesday</td>\n      <td>8</td>\n      <td>12</td>\n      <td>4</td>\n      <td>7</td>\n    </tr>\n    <tr>\n      <th>18</th>\n      <td>Emergency</td>\n      <td>Wednesday</td>\n      <td>12</td>\n      <td>18</td>\n      <td>2</td>\n      <td>5</td>\n    </tr>\n    <tr>\n      <th>19</th>\n      <td>Emergency</td>\n      <td>Wednesday</td>\n      <td>18</td>\n      <td>2</td>\n      <td>3</td>\n      <td>7</td>\n    </tr>\n    <tr>\n      <th>20</th>\n      <td>Consultation</td>\n      <td>Wednesday</td>\n      <td>8</td>\n      <td>12</td>\n      <td>10</td>\n      <td>13</td>\n    </tr>\n    <tr>\n      <th>21</th>\n      <td>Consultation</td>\n      <td>Wednesday</td>\n      <td>12</td>\n      <td>18</td>\n      <td>8</td>\n      <td>12</td>\n    </tr>\n    <tr>\n      <th>22</th>\n      <td>Emergency</td>\n      <td>Thursday</td>\n      <td>2</td>\n      <td>8</td>\n      <td>3</td>\n      <td>5</td>\n    </tr>\n    <tr>\n      <th>23</th>\n      <td>Emergency</td>\n      <td>Thursday</td>\n      <td>8</td>\n      <td>12</td>\n      <td>4</td>\n      <td>7</td>\n    </tr>\n    <tr>\n      <th>24</th>\n      <td>Emergency</td>\n      <td>Thursday</td>\n      <td>12</td>\n      <td>18</td>\n      <td>2</td>\n      <td>5</td>\n    </tr>\n    <tr>\n      <th>25</th>\n      <td>Emergency</td>\n      <td>Thursday</td>\n      <td>18</td>\n      <td>2</td>\n      <td>3</td>\n      <td>7</td>\n    </tr>\n    <tr>\n      <th>26</th>\n      <td>Consultation</td>\n      <td>Thursday</td>\n      <td>8</td>\n      <td>12</td>\n      <td>10</td>\n      <td>13</td>\n    </tr>\n    <tr>\n      <th>27</th>\n      <td>Consultation</td>\n      <td>Thursday</td>\n      <td>12</td>\n      <td>18</td>\n      <td>8</td>\n      <td>12</td>\n    </tr>\n    <tr>\n      <th>28</th>\n      <td>Emergency</td>\n      <td>Friday</td>\n      <td>2</td>\n      <td>8</td>\n      <td>3</td>\n      <td>5</td>\n    </tr>\n    <tr>\n      <th>29</th>\n      <td>Emergency</td>\n      <td>Friday</td>\n      <td>8</td>\n      <td>12</td>\n      <td>4</td>\n      <td>7</td>\n    </tr>\n    <tr>\n      <th>30</th>\n      <td>Emergency</td>\n      <td>Friday</td>\n      <td>12</td>\n      <td>18</td>\n      <td>2</td>\n      <td>5</td>\n    </tr>\n    <tr>\n      <th>31</th>\n      <td>Emergency</td>\n      <td>Friday</td>\n      <td>18</td>\n      <td>2</td>\n      <td>3</td>\n      <td>7</td>\n    </tr>\n    <tr>\n      <th>32</th>\n      <td>Consultation</td>\n      <td>Friday</td>\n      <td>8</td>\n      <td>12</td>\n      <td>10</td>\n      <td>13</td>\n    </tr>\n    <tr>\n      <th>33</th>\n      <td>Consultation</td>\n      <td>Friday</td>\n      <td>12</td>\n      <td>18</td>\n      <td>8</td>\n      <td>12</td>\n    </tr>\n    <tr>\n      <th>34</th>\n      <td>Emergency</td>\n      <td>Saturday</td>\n      <td>2</td>\n      <td>12</td>\n      <td>5</td>\n      <td>7</td>\n    </tr>\n    <tr>\n      <th>35</th>\n      <td>Emergency</td>\n      <td>Saturday</td>\n      <td>12</td>\n      <td>20</td>\n      <td>7</td>\n      <td>9</td>\n    </tr>\n    <tr>\n      <th>36</th>\n      <td>Emergency</td>\n      <td>Saturday</td>\n      <td>20</td>\n      <td>2</td>\n      <td>12</td>\n      <td>12</td>\n    </tr>\n    <tr>\n      <th>37</th>\n      <td>Emergency</td>\n      <td>Sunday</td>\n      <td>2</td>\n      <td>12</td>\n      <td>5</td>\n      <td>7</td>\n    </tr>\n    <tr>\n      <th>38</th>\n      <td>Emergency</td>\n      <td>Sunday</td>\n      <td>12</td>\n      <td>20</td>\n      <td>7</td>\n      <td>9</td>\n    </tr>\n    <tr>\n      <th>39</th>\n      <td>Emergency</td>\n      <td>Sunday</td>\n      <td>20</td>\n      <td>2</td>\n      <td>8</td>\n      <td>12</td>\n    </tr>\n    <tr>\n      <th>40</th>\n      <td>Geriatrics</td>\n      <td>Sunday</td>\n      <td>8</td>\n      <td>10</td>\n      <td>2</td>\n      <td>5</td>\n    </tr>\n  </tbody>\n</table>\n</div>",
                        "text/plain": "           department        day  start_time  end_time  min_req  max_req\nshiftId                                                                 \n0           Emergency     Monday           2         8        3        5\n1           Emergency     Monday           8        12        4        7\n2           Emergency     Monday          12        18        2        5\n3           Emergency     Monday          18         2        3        7\n4        Consultation     Monday           8        12       10       13\n5        Consultation     Monday          12        18        8       12\n6        Cardiac Care     Monday           8        12       10       13\n7        Cardiac Care     Monday          12        18        8       12\n8           Emergency    Tuesday           8        12        4        7\n9           Emergency    Tuesday          12        18        2        5\n10          Emergency    Tuesday          18         2        3        7\n11       Consultation    Tuesday           8        12       10       13\n12       Consultation    Tuesday          12        18        8       12\n13       Cardiac Care    Tuesday           8        12        4        7\n14       Cardiac Care    Tuesday          12        18        2        5\n15       Cardiac Care    Tuesday          18         2        3        7\n16          Emergency  Wednesday           2         8        3        5\n17          Emergency  Wednesday           8        12        4        7\n18          Emergency  Wednesday          12        18        2        5\n19          Emergency  Wednesday          18         2        3        7\n20       Consultation  Wednesday           8        12       10       13\n21       Consultation  Wednesday          12        18        8       12\n22          Emergency   Thursday           2         8        3        5\n23          Emergency   Thursday           8        12        4        7\n24          Emergency   Thursday          12        18        2        5\n25          Emergency   Thursday          18         2        3        7\n26       Consultation   Thursday           8        12       10       13\n27       Consultation   Thursday          12        18        8       12\n28          Emergency     Friday           2         8        3        5\n29          Emergency     Friday           8        12        4        7\n30          Emergency     Friday          12        18        2        5\n31          Emergency     Friday          18         2        3        7\n32       Consultation     Friday           8        12       10       13\n33       Consultation     Friday          12        18        8       12\n34          Emergency   Saturday           2        12        5        7\n35          Emergency   Saturday          12        20        7        9\n36          Emergency   Saturday          20         2       12       12\n37          Emergency     Sunday           2        12        5        7\n38          Emergency     Sunday          12        20        7        9\n39          Emergency     Sunday          20         2        8       12\n40         Geriatrics     Sunday           8        10        2        5"
                    },
                    "execution_count": 5,
                    "metadata": {},
                    "output_type": "execute_result"
                }
            ]
        },
        {
            "metadata": {},
            "cell_type": "markdown",
            "source": "### Step 3: Prepare the data\n\nWe need to precompute additional data for shifts. \nFor each shift, we need the start time and end time expressed in hours, counting from the beginning of the week: Monday 8am is converted to 8, Tuesday 8am is converted to 24+8 = 32, and so on.\n\n#### Sub-step #1\nWe start by adding an extra column `dow` (day of week) which converts the string \"day\" into an integer in 0..6 (Monday is 0, Sunday is 6)."
        },
        {
            "metadata": {},
            "cell_type": "code",
            "source": "days = [\"monday\", \"tuesday\", \"wednesday\", \"thursday\", \"friday\", \"saturday\", \"sunday\"]\nday_of_weeks = dict(zip(days, range(7)))\n\n# utility to convert a day string e.g. \"Monday\" to an integer in 0..6\ndef day_to_day_of_week(day):\n    return day_of_weeks[day.strip().lower()]\n\n# for each day name, we normalize it by stripping whitespace and converting it to lowercase\n# \" Monday\" -> \"monday\"\ndf_shifts[\"dow\"] = df_shifts.day.apply(day_to_day_of_week)\ndf_shifts",
            "execution_count": 6,
            "outputs": [
                {
                    "data": {
                        "text/html": "<div>\n<style scoped>\n    .dataframe tbody tr th:only-of-type {\n        vertical-align: middle;\n    }\n\n    .dataframe tbody tr th {\n        vertical-align: top;\n    }\n\n    .dataframe thead th {\n        text-align: right;\n    }\n</style>\n<table border=\"1\" class=\"dataframe\">\n  <thead>\n    <tr style=\"text-align: right;\">\n      <th></th>\n      <th>department</th>\n      <th>day</th>\n      <th>start_time</th>\n      <th>end_time</th>\n      <th>min_req</th>\n      <th>max_req</th>\n      <th>dow</th>\n    </tr>\n    <tr>\n      <th>shiftId</th>\n      <th></th>\n      <th></th>\n      <th></th>\n      <th></th>\n      <th></th>\n      <th></th>\n      <th></th>\n    </tr>\n  </thead>\n  <tbody>\n    <tr>\n      <th>0</th>\n      <td>Emergency</td>\n      <td>Monday</td>\n      <td>2</td>\n      <td>8</td>\n      <td>3</td>\n      <td>5</td>\n      <td>0</td>\n    </tr>\n    <tr>\n      <th>1</th>\n      <td>Emergency</td>\n      <td>Monday</td>\n      <td>8</td>\n      <td>12</td>\n      <td>4</td>\n      <td>7</td>\n      <td>0</td>\n    </tr>\n    <tr>\n      <th>2</th>\n      <td>Emergency</td>\n      <td>Monday</td>\n      <td>12</td>\n      <td>18</td>\n      <td>2</td>\n      <td>5</td>\n      <td>0</td>\n    </tr>\n    <tr>\n      <th>3</th>\n      <td>Emergency</td>\n      <td>Monday</td>\n      <td>18</td>\n      <td>2</td>\n      <td>3</td>\n      <td>7</td>\n      <td>0</td>\n    </tr>\n    <tr>\n      <th>4</th>\n      <td>Consultation</td>\n      <td>Monday</td>\n      <td>8</td>\n      <td>12</td>\n      <td>10</td>\n      <td>13</td>\n      <td>0</td>\n    </tr>\n    <tr>\n      <th>5</th>\n      <td>Consultation</td>\n      <td>Monday</td>\n      <td>12</td>\n      <td>18</td>\n      <td>8</td>\n      <td>12</td>\n      <td>0</td>\n    </tr>\n    <tr>\n      <th>6</th>\n      <td>Cardiac Care</td>\n      <td>Monday</td>\n      <td>8</td>\n      <td>12</td>\n      <td>10</td>\n      <td>13</td>\n      <td>0</td>\n    </tr>\n    <tr>\n      <th>7</th>\n      <td>Cardiac Care</td>\n      <td>Monday</td>\n      <td>12</td>\n      <td>18</td>\n      <td>8</td>\n      <td>12</td>\n      <td>0</td>\n    </tr>\n    <tr>\n      <th>8</th>\n      <td>Emergency</td>\n      <td>Tuesday</td>\n      <td>8</td>\n      <td>12</td>\n      <td>4</td>\n      <td>7</td>\n      <td>1</td>\n    </tr>\n    <tr>\n      <th>9</th>\n      <td>Emergency</td>\n      <td>Tuesday</td>\n      <td>12</td>\n      <td>18</td>\n      <td>2</td>\n      <td>5</td>\n      <td>1</td>\n    </tr>\n    <tr>\n      <th>10</th>\n      <td>Emergency</td>\n      <td>Tuesday</td>\n      <td>18</td>\n      <td>2</td>\n      <td>3</td>\n      <td>7</td>\n      <td>1</td>\n    </tr>\n    <tr>\n      <th>11</th>\n      <td>Consultation</td>\n      <td>Tuesday</td>\n      <td>8</td>\n      <td>12</td>\n      <td>10</td>\n      <td>13</td>\n      <td>1</td>\n    </tr>\n    <tr>\n      <th>12</th>\n      <td>Consultation</td>\n      <td>Tuesday</td>\n      <td>12</td>\n      <td>18</td>\n      <td>8</td>\n      <td>12</td>\n      <td>1</td>\n    </tr>\n    <tr>\n      <th>13</th>\n      <td>Cardiac Care</td>\n      <td>Tuesday</td>\n      <td>8</td>\n      <td>12</td>\n      <td>4</td>\n      <td>7</td>\n      <td>1</td>\n    </tr>\n    <tr>\n      <th>14</th>\n      <td>Cardiac Care</td>\n      <td>Tuesday</td>\n      <td>12</td>\n      <td>18</td>\n      <td>2</td>\n      <td>5</td>\n      <td>1</td>\n    </tr>\n    <tr>\n      <th>15</th>\n      <td>Cardiac Care</td>\n      <td>Tuesday</td>\n      <td>18</td>\n      <td>2</td>\n      <td>3</td>\n      <td>7</td>\n      <td>1</td>\n    </tr>\n    <tr>\n      <th>16</th>\n      <td>Emergency</td>\n      <td>Wednesday</td>\n      <td>2</td>\n      <td>8</td>\n      <td>3</td>\n      <td>5</td>\n      <td>2</td>\n    </tr>\n    <tr>\n      <th>17</th>\n      <td>Emergency</td>\n      <td>Wednesday</td>\n      <td>8</td>\n      <td>12</td>\n      <td>4</td>\n      <td>7</td>\n      <td>2</td>\n    </tr>\n    <tr>\n      <th>18</th>\n      <td>Emergency</td>\n      <td>Wednesday</td>\n      <td>12</td>\n      <td>18</td>\n      <td>2</td>\n      <td>5</td>\n      <td>2</td>\n    </tr>\n    <tr>\n      <th>19</th>\n      <td>Emergency</td>\n      <td>Wednesday</td>\n      <td>18</td>\n      <td>2</td>\n      <td>3</td>\n      <td>7</td>\n      <td>2</td>\n    </tr>\n    <tr>\n      <th>20</th>\n      <td>Consultation</td>\n      <td>Wednesday</td>\n      <td>8</td>\n      <td>12</td>\n      <td>10</td>\n      <td>13</td>\n      <td>2</td>\n    </tr>\n    <tr>\n      <th>21</th>\n      <td>Consultation</td>\n      <td>Wednesday</td>\n      <td>12</td>\n      <td>18</td>\n      <td>8</td>\n      <td>12</td>\n      <td>2</td>\n    </tr>\n    <tr>\n      <th>22</th>\n      <td>Emergency</td>\n      <td>Thursday</td>\n      <td>2</td>\n      <td>8</td>\n      <td>3</td>\n      <td>5</td>\n      <td>3</td>\n    </tr>\n    <tr>\n      <th>23</th>\n      <td>Emergency</td>\n      <td>Thursday</td>\n      <td>8</td>\n      <td>12</td>\n      <td>4</td>\n      <td>7</td>\n      <td>3</td>\n    </tr>\n    <tr>\n      <th>24</th>\n      <td>Emergency</td>\n      <td>Thursday</td>\n      <td>12</td>\n      <td>18</td>\n      <td>2</td>\n      <td>5</td>\n      <td>3</td>\n    </tr>\n    <tr>\n      <th>25</th>\n      <td>Emergency</td>\n      <td>Thursday</td>\n      <td>18</td>\n      <td>2</td>\n      <td>3</td>\n      <td>7</td>\n      <td>3</td>\n    </tr>\n    <tr>\n      <th>26</th>\n      <td>Consultation</td>\n      <td>Thursday</td>\n      <td>8</td>\n      <td>12</td>\n      <td>10</td>\n      <td>13</td>\n      <td>3</td>\n    </tr>\n    <tr>\n      <th>27</th>\n      <td>Consultation</td>\n      <td>Thursday</td>\n      <td>12</td>\n      <td>18</td>\n      <td>8</td>\n      <td>12</td>\n      <td>3</td>\n    </tr>\n    <tr>\n      <th>28</th>\n      <td>Emergency</td>\n      <td>Friday</td>\n      <td>2</td>\n      <td>8</td>\n      <td>3</td>\n      <td>5</td>\n      <td>4</td>\n    </tr>\n    <tr>\n      <th>29</th>\n      <td>Emergency</td>\n      <td>Friday</td>\n      <td>8</td>\n      <td>12</td>\n      <td>4</td>\n      <td>7</td>\n      <td>4</td>\n    </tr>\n    <tr>\n      <th>30</th>\n      <td>Emergency</td>\n      <td>Friday</td>\n      <td>12</td>\n      <td>18</td>\n      <td>2</td>\n      <td>5</td>\n      <td>4</td>\n    </tr>\n    <tr>\n      <th>31</th>\n      <td>Emergency</td>\n      <td>Friday</td>\n      <td>18</td>\n      <td>2</td>\n      <td>3</td>\n      <td>7</td>\n      <td>4</td>\n    </tr>\n    <tr>\n      <th>32</th>\n      <td>Consultation</td>\n      <td>Friday</td>\n      <td>8</td>\n      <td>12</td>\n      <td>10</td>\n      <td>13</td>\n      <td>4</td>\n    </tr>\n    <tr>\n      <th>33</th>\n      <td>Consultation</td>\n      <td>Friday</td>\n      <td>12</td>\n      <td>18</td>\n      <td>8</td>\n      <td>12</td>\n      <td>4</td>\n    </tr>\n    <tr>\n      <th>34</th>\n      <td>Emergency</td>\n      <td>Saturday</td>\n      <td>2</td>\n      <td>12</td>\n      <td>5</td>\n      <td>7</td>\n      <td>5</td>\n    </tr>\n    <tr>\n      <th>35</th>\n      <td>Emergency</td>\n      <td>Saturday</td>\n      <td>12</td>\n      <td>20</td>\n      <td>7</td>\n      <td>9</td>\n      <td>5</td>\n    </tr>\n    <tr>\n      <th>36</th>\n      <td>Emergency</td>\n      <td>Saturday</td>\n      <td>20</td>\n      <td>2</td>\n      <td>12</td>\n      <td>12</td>\n      <td>5</td>\n    </tr>\n    <tr>\n      <th>37</th>\n      <td>Emergency</td>\n      <td>Sunday</td>\n      <td>2</td>\n      <td>12</td>\n      <td>5</td>\n      <td>7</td>\n      <td>6</td>\n    </tr>\n    <tr>\n      <th>38</th>\n      <td>Emergency</td>\n      <td>Sunday</td>\n      <td>12</td>\n      <td>20</td>\n      <td>7</td>\n      <td>9</td>\n      <td>6</td>\n    </tr>\n    <tr>\n      <th>39</th>\n      <td>Emergency</td>\n      <td>Sunday</td>\n      <td>20</td>\n      <td>2</td>\n      <td>8</td>\n      <td>12</td>\n      <td>6</td>\n    </tr>\n    <tr>\n      <th>40</th>\n      <td>Geriatrics</td>\n      <td>Sunday</td>\n      <td>8</td>\n      <td>10</td>\n      <td>2</td>\n      <td>5</td>\n      <td>6</td>\n    </tr>\n  </tbody>\n</table>\n</div>",
                        "text/plain": "           department        day  start_time  end_time  min_req  max_req  dow\nshiftId                                                                      \n0           Emergency     Monday           2         8        3        5    0\n1           Emergency     Monday           8        12        4        7    0\n2           Emergency     Monday          12        18        2        5    0\n3           Emergency     Monday          18         2        3        7    0\n4        Consultation     Monday           8        12       10       13    0\n5        Consultation     Monday          12        18        8       12    0\n6        Cardiac Care     Monday           8        12       10       13    0\n7        Cardiac Care     Monday          12        18        8       12    0\n8           Emergency    Tuesday           8        12        4        7    1\n9           Emergency    Tuesday          12        18        2        5    1\n10          Emergency    Tuesday          18         2        3        7    1\n11       Consultation    Tuesday           8        12       10       13    1\n12       Consultation    Tuesday          12        18        8       12    1\n13       Cardiac Care    Tuesday           8        12        4        7    1\n14       Cardiac Care    Tuesday          12        18        2        5    1\n15       Cardiac Care    Tuesday          18         2        3        7    1\n16          Emergency  Wednesday           2         8        3        5    2\n17          Emergency  Wednesday           8        12        4        7    2\n18          Emergency  Wednesday          12        18        2        5    2\n19          Emergency  Wednesday          18         2        3        7    2\n20       Consultation  Wednesday           8        12       10       13    2\n21       Consultation  Wednesday          12        18        8       12    2\n22          Emergency   Thursday           2         8        3        5    3\n23          Emergency   Thursday           8        12        4        7    3\n24          Emergency   Thursday          12        18        2        5    3\n25          Emergency   Thursday          18         2        3        7    3\n26       Consultation   Thursday           8        12       10       13    3\n27       Consultation   Thursday          12        18        8       12    3\n28          Emergency     Friday           2         8        3        5    4\n29          Emergency     Friday           8        12        4        7    4\n30          Emergency     Friday          12        18        2        5    4\n31          Emergency     Friday          18         2        3        7    4\n32       Consultation     Friday           8        12       10       13    4\n33       Consultation     Friday          12        18        8       12    4\n34          Emergency   Saturday           2        12        5        7    5\n35          Emergency   Saturday          12        20        7        9    5\n36          Emergency   Saturday          20         2       12       12    5\n37          Emergency     Sunday           2        12        5        7    6\n38          Emergency     Sunday          12        20        7        9    6\n39          Emergency     Sunday          20         2        8       12    6\n40         Geriatrics     Sunday           8        10        2        5    6"
                    },
                    "execution_count": 6,
                    "metadata": {},
                    "output_type": "execute_result"
                }
            ]
        },
        {
            "metadata": {},
            "cell_type": "markdown",
            "source": "#### Sub-step #2 : Compute the absolute start time of each shift.\n\nComputing the start time in the week is easy: just add `24*dow` to column `start_time`. The result is stored in a new column `wstart`."
        },
        {
            "metadata": {},
            "cell_type": "code",
            "source": "df_shifts[\"wstart\"] = df_shifts.start_time + 24 * df_shifts.dow",
            "execution_count": 7,
            "outputs": []
        },
        {
            "metadata": {},
            "cell_type": "markdown",
            "source": "#### Sub-Step #3 : Compute the absolute end time of each shift.\n\nComputing the absolute end time is a little more complicated as certain shifts span across midnight. For example, Shift #3 starts on Monday at 18:00 and ends Tuesday at 2:00 AM. The absolute end time of Shift #3 is 26, not 2.\nThe general rule for computing absolute end time is:\n\n`abs_end_time = end_time + 24 * dow + (start_time>= end_time ? 24 : 0)`\n\nAgain, we use *pandas* to add a new calculated column `wend`. This is done by using the *pandas* `apply` method with an anonymous `lambda` function over rows. The `raw=True` parameter prevents the creation of a *pandas* Series for each row, which improves the performance significantly on large data sets."
        },
        {
            "metadata": {},
            "cell_type": "code",
            "source": "# an auxiliary function to calculate absolute end time of a shift\ndef calculate_absolute_endtime(start, end, dow):\n    return 24*dow + end + (24 if start>=end else 0)\n\n# store the results in a new column\ndf_shifts[\"wend\"] = df_shifts.apply(lambda row: calculate_absolute_endtime(\n        row.start_time, row.end_time, row.dow), axis=1, raw=True)",
            "execution_count": 8,
            "outputs": []
        },
        {
            "metadata": {},
            "cell_type": "markdown",
            "source": "#### Sub-step #4 : Compute the duration of each shift.\n\nComputing the duration of each shift is now a straightforward difference of columns. The result is stored in column `duration`."
        },
        {
            "metadata": {},
            "cell_type": "code",
            "source": "df_shifts[\"duration\"] = df_shifts.wend - df_shifts.wstart",
            "execution_count": 9,
            "outputs": []
        },
        {
            "metadata": {},
            "cell_type": "markdown",
            "source": "#### Sub-step #5 : Compute the minimum demand for each shift.\n\nMinimum demand is the product of duration (in hours) by the minimum required number of nurses. Thus, in number of \nnurse-hours, this demand is stored in another new column `min_demand`.\n\nFinally, we display the updated shifts DataFrame with all calculated columns."
        },
        {
            "metadata": {},
            "cell_type": "code",
            "source": "# also compute minimum demand in nurse-hours\ndf_shifts[\"min_demand\"] = df_shifts.min_req * df_shifts.duration\n\n# finally check the modified shifts dataframe\ndf_shifts",
            "execution_count": 10,
            "outputs": [
                {
                    "data": {
                        "text/html": "<div>\n<style scoped>\n    .dataframe tbody tr th:only-of-type {\n        vertical-align: middle;\n    }\n\n    .dataframe tbody tr th {\n        vertical-align: top;\n    }\n\n    .dataframe thead th {\n        text-align: right;\n    }\n</style>\n<table border=\"1\" class=\"dataframe\">\n  <thead>\n    <tr style=\"text-align: right;\">\n      <th></th>\n      <th>department</th>\n      <th>day</th>\n      <th>start_time</th>\n      <th>end_time</th>\n      <th>min_req</th>\n      <th>max_req</th>\n      <th>dow</th>\n      <th>wstart</th>\n      <th>wend</th>\n      <th>duration</th>\n      <th>min_demand</th>\n    </tr>\n    <tr>\n      <th>shiftId</th>\n      <th></th>\n      <th></th>\n      <th></th>\n      <th></th>\n      <th></th>\n      <th></th>\n      <th></th>\n      <th></th>\n      <th></th>\n      <th></th>\n      <th></th>\n    </tr>\n  </thead>\n  <tbody>\n    <tr>\n      <th>0</th>\n      <td>Emergency</td>\n      <td>Monday</td>\n      <td>2</td>\n      <td>8</td>\n      <td>3</td>\n      <td>5</td>\n      <td>0</td>\n      <td>2</td>\n      <td>8</td>\n      <td>6</td>\n      <td>18</td>\n    </tr>\n    <tr>\n      <th>1</th>\n      <td>Emergency</td>\n      <td>Monday</td>\n      <td>8</td>\n      <td>12</td>\n      <td>4</td>\n      <td>7</td>\n      <td>0</td>\n      <td>8</td>\n      <td>12</td>\n      <td>4</td>\n      <td>16</td>\n    </tr>\n    <tr>\n      <th>2</th>\n      <td>Emergency</td>\n      <td>Monday</td>\n      <td>12</td>\n      <td>18</td>\n      <td>2</td>\n      <td>5</td>\n      <td>0</td>\n      <td>12</td>\n      <td>18</td>\n      <td>6</td>\n      <td>12</td>\n    </tr>\n    <tr>\n      <th>3</th>\n      <td>Emergency</td>\n      <td>Monday</td>\n      <td>18</td>\n      <td>2</td>\n      <td>3</td>\n      <td>7</td>\n      <td>0</td>\n      <td>18</td>\n      <td>26</td>\n      <td>8</td>\n      <td>24</td>\n    </tr>\n    <tr>\n      <th>4</th>\n      <td>Consultation</td>\n      <td>Monday</td>\n      <td>8</td>\n      <td>12</td>\n      <td>10</td>\n      <td>13</td>\n      <td>0</td>\n      <td>8</td>\n      <td>12</td>\n      <td>4</td>\n      <td>40</td>\n    </tr>\n    <tr>\n      <th>5</th>\n      <td>Consultation</td>\n      <td>Monday</td>\n      <td>12</td>\n      <td>18</td>\n      <td>8</td>\n      <td>12</td>\n      <td>0</td>\n      <td>12</td>\n      <td>18</td>\n      <td>6</td>\n      <td>48</td>\n    </tr>\n    <tr>\n      <th>6</th>\n      <td>Cardiac Care</td>\n      <td>Monday</td>\n      <td>8</td>\n      <td>12</td>\n      <td>10</td>\n      <td>13</td>\n      <td>0</td>\n      <td>8</td>\n      <td>12</td>\n      <td>4</td>\n      <td>40</td>\n    </tr>\n    <tr>\n      <th>7</th>\n      <td>Cardiac Care</td>\n      <td>Monday</td>\n      <td>12</td>\n      <td>18</td>\n      <td>8</td>\n      <td>12</td>\n      <td>0</td>\n      <td>12</td>\n      <td>18</td>\n      <td>6</td>\n      <td>48</td>\n    </tr>\n    <tr>\n      <th>8</th>\n      <td>Emergency</td>\n      <td>Tuesday</td>\n      <td>8</td>\n      <td>12</td>\n      <td>4</td>\n      <td>7</td>\n      <td>1</td>\n      <td>32</td>\n      <td>36</td>\n      <td>4</td>\n      <td>16</td>\n    </tr>\n    <tr>\n      <th>9</th>\n      <td>Emergency</td>\n      <td>Tuesday</td>\n      <td>12</td>\n      <td>18</td>\n      <td>2</td>\n      <td>5</td>\n      <td>1</td>\n      <td>36</td>\n      <td>42</td>\n      <td>6</td>\n      <td>12</td>\n    </tr>\n    <tr>\n      <th>10</th>\n      <td>Emergency</td>\n      <td>Tuesday</td>\n      <td>18</td>\n      <td>2</td>\n      <td>3</td>\n      <td>7</td>\n      <td>1</td>\n      <td>42</td>\n      <td>50</td>\n      <td>8</td>\n      <td>24</td>\n    </tr>\n    <tr>\n      <th>11</th>\n      <td>Consultation</td>\n      <td>Tuesday</td>\n      <td>8</td>\n      <td>12</td>\n      <td>10</td>\n      <td>13</td>\n      <td>1</td>\n      <td>32</td>\n      <td>36</td>\n      <td>4</td>\n      <td>40</td>\n    </tr>\n    <tr>\n      <th>12</th>\n      <td>Consultation</td>\n      <td>Tuesday</td>\n      <td>12</td>\n      <td>18</td>\n      <td>8</td>\n      <td>12</td>\n      <td>1</td>\n      <td>36</td>\n      <td>42</td>\n      <td>6</td>\n      <td>48</td>\n    </tr>\n    <tr>\n      <th>13</th>\n      <td>Cardiac Care</td>\n      <td>Tuesday</td>\n      <td>8</td>\n      <td>12</td>\n      <td>4</td>\n      <td>7</td>\n      <td>1</td>\n      <td>32</td>\n      <td>36</td>\n      <td>4</td>\n      <td>16</td>\n    </tr>\n    <tr>\n      <th>14</th>\n      <td>Cardiac Care</td>\n      <td>Tuesday</td>\n      <td>12</td>\n      <td>18</td>\n      <td>2</td>\n      <td>5</td>\n      <td>1</td>\n      <td>36</td>\n      <td>42</td>\n      <td>6</td>\n      <td>12</td>\n    </tr>\n    <tr>\n      <th>15</th>\n      <td>Cardiac Care</td>\n      <td>Tuesday</td>\n      <td>18</td>\n      <td>2</td>\n      <td>3</td>\n      <td>7</td>\n      <td>1</td>\n      <td>42</td>\n      <td>50</td>\n      <td>8</td>\n      <td>24</td>\n    </tr>\n    <tr>\n      <th>16</th>\n      <td>Emergency</td>\n      <td>Wednesday</td>\n      <td>2</td>\n      <td>8</td>\n      <td>3</td>\n      <td>5</td>\n      <td>2</td>\n      <td>50</td>\n      <td>56</td>\n      <td>6</td>\n      <td>18</td>\n    </tr>\n    <tr>\n      <th>17</th>\n      <td>Emergency</td>\n      <td>Wednesday</td>\n      <td>8</td>\n      <td>12</td>\n      <td>4</td>\n      <td>7</td>\n      <td>2</td>\n      <td>56</td>\n      <td>60</td>\n      <td>4</td>\n      <td>16</td>\n    </tr>\n    <tr>\n      <th>18</th>\n      <td>Emergency</td>\n      <td>Wednesday</td>\n      <td>12</td>\n      <td>18</td>\n      <td>2</td>\n      <td>5</td>\n      <td>2</td>\n      <td>60</td>\n      <td>66</td>\n      <td>6</td>\n      <td>12</td>\n    </tr>\n    <tr>\n      <th>19</th>\n      <td>Emergency</td>\n      <td>Wednesday</td>\n      <td>18</td>\n      <td>2</td>\n      <td>3</td>\n      <td>7</td>\n      <td>2</td>\n      <td>66</td>\n      <td>74</td>\n      <td>8</td>\n      <td>24</td>\n    </tr>\n    <tr>\n      <th>20</th>\n      <td>Consultation</td>\n      <td>Wednesday</td>\n      <td>8</td>\n      <td>12</td>\n      <td>10</td>\n      <td>13</td>\n      <td>2</td>\n      <td>56</td>\n      <td>60</td>\n      <td>4</td>\n      <td>40</td>\n    </tr>\n    <tr>\n      <th>21</th>\n      <td>Consultation</td>\n      <td>Wednesday</td>\n      <td>12</td>\n      <td>18</td>\n      <td>8</td>\n      <td>12</td>\n      <td>2</td>\n      <td>60</td>\n      <td>66</td>\n      <td>6</td>\n      <td>48</td>\n    </tr>\n    <tr>\n      <th>22</th>\n      <td>Emergency</td>\n      <td>Thursday</td>\n      <td>2</td>\n      <td>8</td>\n      <td>3</td>\n      <td>5</td>\n      <td>3</td>\n      <td>74</td>\n      <td>80</td>\n      <td>6</td>\n      <td>18</td>\n    </tr>\n    <tr>\n      <th>23</th>\n      <td>Emergency</td>\n      <td>Thursday</td>\n      <td>8</td>\n      <td>12</td>\n      <td>4</td>\n      <td>7</td>\n      <td>3</td>\n      <td>80</td>\n      <td>84</td>\n      <td>4</td>\n      <td>16</td>\n    </tr>\n    <tr>\n      <th>24</th>\n      <td>Emergency</td>\n      <td>Thursday</td>\n      <td>12</td>\n      <td>18</td>\n      <td>2</td>\n      <td>5</td>\n      <td>3</td>\n      <td>84</td>\n      <td>90</td>\n      <td>6</td>\n      <td>12</td>\n    </tr>\n    <tr>\n      <th>25</th>\n      <td>Emergency</td>\n      <td>Thursday</td>\n      <td>18</td>\n      <td>2</td>\n      <td>3</td>\n      <td>7</td>\n      <td>3</td>\n      <td>90</td>\n      <td>98</td>\n      <td>8</td>\n      <td>24</td>\n    </tr>\n    <tr>\n      <th>26</th>\n      <td>Consultation</td>\n      <td>Thursday</td>\n      <td>8</td>\n      <td>12</td>\n      <td>10</td>\n      <td>13</td>\n      <td>3</td>\n      <td>80</td>\n      <td>84</td>\n      <td>4</td>\n      <td>40</td>\n    </tr>\n    <tr>\n      <th>27</th>\n      <td>Consultation</td>\n      <td>Thursday</td>\n      <td>12</td>\n      <td>18</td>\n      <td>8</td>\n      <td>12</td>\n      <td>3</td>\n      <td>84</td>\n      <td>90</td>\n      <td>6</td>\n      <td>48</td>\n    </tr>\n    <tr>\n      <th>28</th>\n      <td>Emergency</td>\n      <td>Friday</td>\n      <td>2</td>\n      <td>8</td>\n      <td>3</td>\n      <td>5</td>\n      <td>4</td>\n      <td>98</td>\n      <td>104</td>\n      <td>6</td>\n      <td>18</td>\n    </tr>\n    <tr>\n      <th>29</th>\n      <td>Emergency</td>\n      <td>Friday</td>\n      <td>8</td>\n      <td>12</td>\n      <td>4</td>\n      <td>7</td>\n      <td>4</td>\n      <td>104</td>\n      <td>108</td>\n      <td>4</td>\n      <td>16</td>\n    </tr>\n    <tr>\n      <th>30</th>\n      <td>Emergency</td>\n      <td>Friday</td>\n      <td>12</td>\n      <td>18</td>\n      <td>2</td>\n      <td>5</td>\n      <td>4</td>\n      <td>108</td>\n      <td>114</td>\n      <td>6</td>\n      <td>12</td>\n    </tr>\n    <tr>\n      <th>31</th>\n      <td>Emergency</td>\n      <td>Friday</td>\n      <td>18</td>\n      <td>2</td>\n      <td>3</td>\n      <td>7</td>\n      <td>4</td>\n      <td>114</td>\n      <td>122</td>\n      <td>8</td>\n      <td>24</td>\n    </tr>\n    <tr>\n      <th>32</th>\n      <td>Consultation</td>\n      <td>Friday</td>\n      <td>8</td>\n      <td>12</td>\n      <td>10</td>\n      <td>13</td>\n      <td>4</td>\n      <td>104</td>\n      <td>108</td>\n      <td>4</td>\n      <td>40</td>\n    </tr>\n    <tr>\n      <th>33</th>\n      <td>Consultation</td>\n      <td>Friday</td>\n      <td>12</td>\n      <td>18</td>\n      <td>8</td>\n      <td>12</td>\n      <td>4</td>\n      <td>108</td>\n      <td>114</td>\n      <td>6</td>\n      <td>48</td>\n    </tr>\n    <tr>\n      <th>34</th>\n      <td>Emergency</td>\n      <td>Saturday</td>\n      <td>2</td>\n      <td>12</td>\n      <td>5</td>\n      <td>7</td>\n      <td>5</td>\n      <td>122</td>\n      <td>132</td>\n      <td>10</td>\n      <td>50</td>\n    </tr>\n    <tr>\n      <th>35</th>\n      <td>Emergency</td>\n      <td>Saturday</td>\n      <td>12</td>\n      <td>20</td>\n      <td>7</td>\n      <td>9</td>\n      <td>5</td>\n      <td>132</td>\n      <td>140</td>\n      <td>8</td>\n      <td>56</td>\n    </tr>\n    <tr>\n      <th>36</th>\n      <td>Emergency</td>\n      <td>Saturday</td>\n      <td>20</td>\n      <td>2</td>\n      <td>12</td>\n      <td>12</td>\n      <td>5</td>\n      <td>140</td>\n      <td>146</td>\n      <td>6</td>\n      <td>72</td>\n    </tr>\n    <tr>\n      <th>37</th>\n      <td>Emergency</td>\n      <td>Sunday</td>\n      <td>2</td>\n      <td>12</td>\n      <td>5</td>\n      <td>7</td>\n      <td>6</td>\n      <td>146</td>\n      <td>156</td>\n      <td>10</td>\n      <td>50</td>\n    </tr>\n    <tr>\n      <th>38</th>\n      <td>Emergency</td>\n      <td>Sunday</td>\n      <td>12</td>\n      <td>20</td>\n      <td>7</td>\n      <td>9</td>\n      <td>6</td>\n      <td>156</td>\n      <td>164</td>\n      <td>8</td>\n      <td>56</td>\n    </tr>\n    <tr>\n      <th>39</th>\n      <td>Emergency</td>\n      <td>Sunday</td>\n      <td>20</td>\n      <td>2</td>\n      <td>8</td>\n      <td>12</td>\n      <td>6</td>\n      <td>164</td>\n      <td>170</td>\n      <td>6</td>\n      <td>48</td>\n    </tr>\n    <tr>\n      <th>40</th>\n      <td>Geriatrics</td>\n      <td>Sunday</td>\n      <td>8</td>\n      <td>10</td>\n      <td>2</td>\n      <td>5</td>\n      <td>6</td>\n      <td>152</td>\n      <td>154</td>\n      <td>2</td>\n      <td>4</td>\n    </tr>\n  </tbody>\n</table>\n</div>",
                        "text/plain": "           department        day  start_time  end_time  min_req  max_req  dow  \\\nshiftId                                                                         \n0           Emergency     Monday           2         8        3        5    0   \n1           Emergency     Monday           8        12        4        7    0   \n2           Emergency     Monday          12        18        2        5    0   \n3           Emergency     Monday          18         2        3        7    0   \n4        Consultation     Monday           8        12       10       13    0   \n5        Consultation     Monday          12        18        8       12    0   \n6        Cardiac Care     Monday           8        12       10       13    0   \n7        Cardiac Care     Monday          12        18        8       12    0   \n8           Emergency    Tuesday           8        12        4        7    1   \n9           Emergency    Tuesday          12        18        2        5    1   \n10          Emergency    Tuesday          18         2        3        7    1   \n11       Consultation    Tuesday           8        12       10       13    1   \n12       Consultation    Tuesday          12        18        8       12    1   \n13       Cardiac Care    Tuesday           8        12        4        7    1   \n14       Cardiac Care    Tuesday          12        18        2        5    1   \n15       Cardiac Care    Tuesday          18         2        3        7    1   \n16          Emergency  Wednesday           2         8        3        5    2   \n17          Emergency  Wednesday           8        12        4        7    2   \n18          Emergency  Wednesday          12        18        2        5    2   \n19          Emergency  Wednesday          18         2        3        7    2   \n20       Consultation  Wednesday           8        12       10       13    2   \n21       Consultation  Wednesday          12        18        8       12    2   \n22          Emergency   Thursday           2         8        3        5    3   \n23          Emergency   Thursday           8        12        4        7    3   \n24          Emergency   Thursday          12        18        2        5    3   \n25          Emergency   Thursday          18         2        3        7    3   \n26       Consultation   Thursday           8        12       10       13    3   \n27       Consultation   Thursday          12        18        8       12    3   \n28          Emergency     Friday           2         8        3        5    4   \n29          Emergency     Friday           8        12        4        7    4   \n30          Emergency     Friday          12        18        2        5    4   \n31          Emergency     Friday          18         2        3        7    4   \n32       Consultation     Friday           8        12       10       13    4   \n33       Consultation     Friday          12        18        8       12    4   \n34          Emergency   Saturday           2        12        5        7    5   \n35          Emergency   Saturday          12        20        7        9    5   \n36          Emergency   Saturday          20         2       12       12    5   \n37          Emergency     Sunday           2        12        5        7    6   \n38          Emergency     Sunday          12        20        7        9    6   \n39          Emergency     Sunday          20         2        8       12    6   \n40         Geriatrics     Sunday           8        10        2        5    6   \n\n         wstart  wend  duration  min_demand  \nshiftId                                      \n0             2     8         6          18  \n1             8    12         4          16  \n2            12    18         6          12  \n3            18    26         8          24  \n4             8    12         4          40  \n5            12    18         6          48  \n6             8    12         4          40  \n7            12    18         6          48  \n8            32    36         4          16  \n9            36    42         6          12  \n10           42    50         8          24  \n11           32    36         4          40  \n12           36    42         6          48  \n13           32    36         4          16  \n14           36    42         6          12  \n15           42    50         8          24  \n16           50    56         6          18  \n17           56    60         4          16  \n18           60    66         6          12  \n19           66    74         8          24  \n20           56    60         4          40  \n21           60    66         6          48  \n22           74    80         6          18  \n23           80    84         4          16  \n24           84    90         6          12  \n25           90    98         8          24  \n26           80    84         4          40  \n27           84    90         6          48  \n28           98   104         6          18  \n29          104   108         4          16  \n30          108   114         6          12  \n31          114   122         8          24  \n32          104   108         4          40  \n33          108   114         6          48  \n34          122   132        10          50  \n35          132   140         8          56  \n36          140   146         6          72  \n37          146   156        10          50  \n38          156   164         8          56  \n39          164   170         6          48  \n40          152   154         2           4  "
                    },
                    "execution_count": 10,
                    "metadata": {},
                    "output_type": "execute_result"
                }
            ]
        },
        {
            "metadata": {},
            "cell_type": "markdown",
            "source": "### Step 4: Set up the prescriptive model"
        },
        {
            "metadata": {},
            "cell_type": "code",
            "source": "from docplex.mp.environment import Environment\nenv = Environment()\nenv.print_information()",
            "execution_count": 11,
            "outputs": [
                {
                    "name": "stdout",
                    "output_type": "stream",
                    "text": "* system is: Linux 64bit\n* Python version 3.6.8, located at: /opt/conda/envs/Python36/bin/python\n* docplex is present, version is (2, 10, 150)\n* CPLEX library is present, version is 12.9.0.1, located at: /opt/conda/envs/Python36/lib/python3.6/site-packages\n* pandas is present, version is 0.24.1\n"
                }
            ]
        },
        {
            "metadata": {},
            "cell_type": "markdown",
            "source": "#### Create the DOcplex model\nThe model contains all the business constraints and defines the objective.\n\nWe now use CPLEX Modeling for Python to build a Mixed Integer Programming (MIP) model for this problem."
        },
        {
            "metadata": {},
            "cell_type": "code",
            "source": "from docplex.mp.model import Model\nmdl = Model(name=\"nurses\")",
            "execution_count": 12,
            "outputs": []
        },
        {
            "metadata": {},
            "cell_type": "markdown",
            "source": "#### Define the decision variables\n\nFor each (nurse, shift) pair, we create one binary variable that is equal to 1 when the nurse is assigned to the shift.\n\nWe use the `binary_var_matrix` method of class `Model`, as each binary variable is indexed by _two_ objects: one nurse and one shift."
        },
        {
            "metadata": {},
            "cell_type": "code",
            "source": "# first global collections to iterate upon\nall_nurses = df_nurses.index.values\nall_shifts = df_shifts.index.values\n\n# the assignment variables.\nassigned = mdl.binary_var_matrix(keys1=all_nurses, keys2=all_shifts, name=\"assign_%s_%s\")",
            "execution_count": 13,
            "outputs": []
        },
        {
            "metadata": {},
            "cell_type": "markdown",
            "source": "#### Express the business constraints\n\n#####  Overlapping shifts\n\nSome shifts overlap in time, and thus cannot be assigned to the same nurse.\nTo check whether two shifts overlap in time, we start by ordering all shifts with respect to their *wstart* and *duration* properties. Then, for each shift, we iterate over the subsequent shifts in this ordered list to easily compute the subset of overlapping shifts.\n\nWe use *pandas* operations to implement this algorithm. But first, we organize all decision variables in a DataFrame.\n\nFor convenience, we also organize the decision variables in a pivot table with *nurses* as row index and *shifts* as columns. The *pandas* *unstack* operation does this."
        },
        {
            "metadata": {},
            "cell_type": "code",
            "source": "# Organize decision variables in a DataFrame\ndf_assigned = DataFrame({'assigned': assigned})\ndf_assigned.index.names=['all_nurses', 'all_shifts']\n\n# Re-organize the Data Frame as a pivot table with nurses as row index and shifts as columns:\ndf_assigned_pivot = df_assigned.unstack(level='all_shifts')\n\n# Create a pivot using nurses and shifts index as dimensions\ndf_assigned_pivot = df_assigned.reset_index().pivot(index='all_nurses', columns='all_shifts', values='assigned')\n\n# Display first rows of the pivot table\ndf_assigned_pivot.head()",
            "execution_count": 14,
            "outputs": [
                {
                    "data": {
                        "text/html": "<div>\n<style scoped>\n    .dataframe tbody tr th:only-of-type {\n        vertical-align: middle;\n    }\n\n    .dataframe tbody tr th {\n        vertical-align: top;\n    }\n\n    .dataframe thead th {\n        text-align: right;\n    }\n</style>\n<table border=\"1\" class=\"dataframe\">\n  <thead>\n    <tr style=\"text-align: right;\">\n      <th>all_shifts</th>\n      <th>0</th>\n      <th>1</th>\n      <th>2</th>\n      <th>3</th>\n      <th>4</th>\n      <th>5</th>\n      <th>6</th>\n      <th>7</th>\n      <th>8</th>\n      <th>9</th>\n      <th>...</th>\n      <th>31</th>\n      <th>32</th>\n      <th>33</th>\n      <th>34</th>\n      <th>35</th>\n      <th>36</th>\n      <th>37</th>\n      <th>38</th>\n      <th>39</th>\n      <th>40</th>\n    </tr>\n    <tr>\n      <th>all_nurses</th>\n      <th></th>\n      <th></th>\n      <th></th>\n      <th></th>\n      <th></th>\n      <th></th>\n      <th></th>\n      <th></th>\n      <th></th>\n      <th></th>\n      <th></th>\n      <th></th>\n      <th></th>\n      <th></th>\n      <th></th>\n      <th></th>\n      <th></th>\n      <th></th>\n      <th></th>\n      <th></th>\n      <th></th>\n    </tr>\n  </thead>\n  <tbody>\n    <tr>\n      <th>Anne</th>\n      <td>assign_Anne_0</td>\n      <td>assign_Anne_1</td>\n      <td>assign_Anne_2</td>\n      <td>assign_Anne_3</td>\n      <td>assign_Anne_4</td>\n      <td>assign_Anne_5</td>\n      <td>assign_Anne_6</td>\n      <td>assign_Anne_7</td>\n      <td>assign_Anne_8</td>\n      <td>assign_Anne_9</td>\n      <td>...</td>\n      <td>assign_Anne_31</td>\n      <td>assign_Anne_32</td>\n      <td>assign_Anne_33</td>\n      <td>assign_Anne_34</td>\n      <td>assign_Anne_35</td>\n      <td>assign_Anne_36</td>\n      <td>assign_Anne_37</td>\n      <td>assign_Anne_38</td>\n      <td>assign_Anne_39</td>\n      <td>assign_Anne_40</td>\n    </tr>\n    <tr>\n      <th>Bethanie</th>\n      <td>assign_Bethanie_0</td>\n      <td>assign_Bethanie_1</td>\n      <td>assign_Bethanie_2</td>\n      <td>assign_Bethanie_3</td>\n      <td>assign_Bethanie_4</td>\n      <td>assign_Bethanie_5</td>\n      <td>assign_Bethanie_6</td>\n      <td>assign_Bethanie_7</td>\n      <td>assign_Bethanie_8</td>\n      <td>assign_Bethanie_9</td>\n      <td>...</td>\n      <td>assign_Bethanie_31</td>\n      <td>assign_Bethanie_32</td>\n      <td>assign_Bethanie_33</td>\n      <td>assign_Bethanie_34</td>\n      <td>assign_Bethanie_35</td>\n      <td>assign_Bethanie_36</td>\n      <td>assign_Bethanie_37</td>\n      <td>assign_Bethanie_38</td>\n      <td>assign_Bethanie_39</td>\n      <td>assign_Bethanie_40</td>\n    </tr>\n    <tr>\n      <th>Betsy</th>\n      <td>assign_Betsy_0</td>\n      <td>assign_Betsy_1</td>\n      <td>assign_Betsy_2</td>\n      <td>assign_Betsy_3</td>\n      <td>assign_Betsy_4</td>\n      <td>assign_Betsy_5</td>\n      <td>assign_Betsy_6</td>\n      <td>assign_Betsy_7</td>\n      <td>assign_Betsy_8</td>\n      <td>assign_Betsy_9</td>\n      <td>...</td>\n      <td>assign_Betsy_31</td>\n      <td>assign_Betsy_32</td>\n      <td>assign_Betsy_33</td>\n      <td>assign_Betsy_34</td>\n      <td>assign_Betsy_35</td>\n      <td>assign_Betsy_36</td>\n      <td>assign_Betsy_37</td>\n      <td>assign_Betsy_38</td>\n      <td>assign_Betsy_39</td>\n      <td>assign_Betsy_40</td>\n    </tr>\n    <tr>\n      <th>Cathy</th>\n      <td>assign_Cathy_0</td>\n      <td>assign_Cathy_1</td>\n      <td>assign_Cathy_2</td>\n      <td>assign_Cathy_3</td>\n      <td>assign_Cathy_4</td>\n      <td>assign_Cathy_5</td>\n      <td>assign_Cathy_6</td>\n      <td>assign_Cathy_7</td>\n      <td>assign_Cathy_8</td>\n      <td>assign_Cathy_9</td>\n      <td>...</td>\n      <td>assign_Cathy_31</td>\n      <td>assign_Cathy_32</td>\n      <td>assign_Cathy_33</td>\n      <td>assign_Cathy_34</td>\n      <td>assign_Cathy_35</td>\n      <td>assign_Cathy_36</td>\n      <td>assign_Cathy_37</td>\n      <td>assign_Cathy_38</td>\n      <td>assign_Cathy_39</td>\n      <td>assign_Cathy_40</td>\n    </tr>\n    <tr>\n      <th>Cecilia</th>\n      <td>assign_Cecilia_0</td>\n      <td>assign_Cecilia_1</td>\n      <td>assign_Cecilia_2</td>\n      <td>assign_Cecilia_3</td>\n      <td>assign_Cecilia_4</td>\n      <td>assign_Cecilia_5</td>\n      <td>assign_Cecilia_6</td>\n      <td>assign_Cecilia_7</td>\n      <td>assign_Cecilia_8</td>\n      <td>assign_Cecilia_9</td>\n      <td>...</td>\n      <td>assign_Cecilia_31</td>\n      <td>assign_Cecilia_32</td>\n      <td>assign_Cecilia_33</td>\n      <td>assign_Cecilia_34</td>\n      <td>assign_Cecilia_35</td>\n      <td>assign_Cecilia_36</td>\n      <td>assign_Cecilia_37</td>\n      <td>assign_Cecilia_38</td>\n      <td>assign_Cecilia_39</td>\n      <td>assign_Cecilia_40</td>\n    </tr>\n  </tbody>\n</table>\n<p>5 rows \u00d7 41 columns</p>\n</div>",
                        "text/plain": "all_shifts                 0                  1                  2   \\\nall_nurses                                                            \nAnne            assign_Anne_0      assign_Anne_1      assign_Anne_2   \nBethanie    assign_Bethanie_0  assign_Bethanie_1  assign_Bethanie_2   \nBetsy          assign_Betsy_0     assign_Betsy_1     assign_Betsy_2   \nCathy          assign_Cathy_0     assign_Cathy_1     assign_Cathy_2   \nCecilia      assign_Cecilia_0   assign_Cecilia_1   assign_Cecilia_2   \n\nall_shifts                 3                  4                  5   \\\nall_nurses                                                            \nAnne            assign_Anne_3      assign_Anne_4      assign_Anne_5   \nBethanie    assign_Bethanie_3  assign_Bethanie_4  assign_Bethanie_5   \nBetsy          assign_Betsy_3     assign_Betsy_4     assign_Betsy_5   \nCathy          assign_Cathy_3     assign_Cathy_4     assign_Cathy_5   \nCecilia      assign_Cecilia_3   assign_Cecilia_4   assign_Cecilia_5   \n\nall_shifts                 6                  7                  8   \\\nall_nurses                                                            \nAnne            assign_Anne_6      assign_Anne_7      assign_Anne_8   \nBethanie    assign_Bethanie_6  assign_Bethanie_7  assign_Bethanie_8   \nBetsy          assign_Betsy_6     assign_Betsy_7     assign_Betsy_8   \nCathy          assign_Cathy_6     assign_Cathy_7     assign_Cathy_8   \nCecilia      assign_Cecilia_6   assign_Cecilia_7   assign_Cecilia_8   \n\nall_shifts                 9   ...                  31                  32  \\\nall_nurses                     ...                                           \nAnne            assign_Anne_9  ...      assign_Anne_31      assign_Anne_32   \nBethanie    assign_Bethanie_9  ...  assign_Bethanie_31  assign_Bethanie_32   \nBetsy          assign_Betsy_9  ...     assign_Betsy_31     assign_Betsy_32   \nCathy          assign_Cathy_9  ...     assign_Cathy_31     assign_Cathy_32   \nCecilia      assign_Cecilia_9  ...   assign_Cecilia_31   assign_Cecilia_32   \n\nall_shifts                  33                  34                  35  \\\nall_nurses                                                               \nAnne            assign_Anne_33      assign_Anne_34      assign_Anne_35   \nBethanie    assign_Bethanie_33  assign_Bethanie_34  assign_Bethanie_35   \nBetsy          assign_Betsy_33     assign_Betsy_34     assign_Betsy_35   \nCathy          assign_Cathy_33     assign_Cathy_34     assign_Cathy_35   \nCecilia      assign_Cecilia_33   assign_Cecilia_34   assign_Cecilia_35   \n\nall_shifts                  36                  37                  38  \\\nall_nurses                                                               \nAnne            assign_Anne_36      assign_Anne_37      assign_Anne_38   \nBethanie    assign_Bethanie_36  assign_Bethanie_37  assign_Bethanie_38   \nBetsy          assign_Betsy_36     assign_Betsy_37     assign_Betsy_38   \nCathy          assign_Cathy_36     assign_Cathy_37     assign_Cathy_38   \nCecilia      assign_Cecilia_36   assign_Cecilia_37   assign_Cecilia_38   \n\nall_shifts                  39                  40  \nall_nurses                                          \nAnne            assign_Anne_39      assign_Anne_40  \nBethanie    assign_Bethanie_39  assign_Bethanie_40  \nBetsy          assign_Betsy_39     assign_Betsy_40  \nCathy          assign_Cathy_39     assign_Cathy_40  \nCecilia      assign_Cecilia_39   assign_Cecilia_40  \n\n[5 rows x 41 columns]"
                    },
                    "execution_count": 14,
                    "metadata": {},
                    "output_type": "execute_result"
                }
            ]
        },
        {
            "metadata": {},
            "cell_type": "markdown",
            "source": "We create a DataFrame representing a list of shifts sorted by *\"wstart\"* and *\"duration\"*.\nThis sorted list will be used to easily detect overlapping shifts.\n\nNote that indices are reset after sorting so that the DataFrame can be indexed with respect to\nthe index in the sorted list and not the original unsorted list. This is the purpose of the *reset_index()*\noperation which also adds a new column named *\"shiftId\"* with the original index."
        },
        {
            "metadata": {},
            "cell_type": "code",
            "source": "# Create a Data Frame representing a list of shifts sorted by wstart and duration.\n# One keeps only the three relevant columns: 'shiftId', 'wstart' and 'wend' in the resulting Data Frame \ndf_sorted_shifts = df_shifts.sort_values(['wstart','duration']).reset_index()[['shiftId', 'wstart', 'wend']]\n\n# Display the first rows of the newly created Data Frame\ndf_sorted_shifts.head()",
            "execution_count": 15,
            "outputs": [
                {
                    "data": {
                        "text/html": "<div>\n<style scoped>\n    .dataframe tbody tr th:only-of-type {\n        vertical-align: middle;\n    }\n\n    .dataframe tbody tr th {\n        vertical-align: top;\n    }\n\n    .dataframe thead th {\n        text-align: right;\n    }\n</style>\n<table border=\"1\" class=\"dataframe\">\n  <thead>\n    <tr style=\"text-align: right;\">\n      <th></th>\n      <th>shiftId</th>\n      <th>wstart</th>\n      <th>wend</th>\n    </tr>\n  </thead>\n  <tbody>\n    <tr>\n      <th>0</th>\n      <td>0</td>\n      <td>2</td>\n      <td>8</td>\n    </tr>\n    <tr>\n      <th>1</th>\n      <td>1</td>\n      <td>8</td>\n      <td>12</td>\n    </tr>\n    <tr>\n      <th>2</th>\n      <td>4</td>\n      <td>8</td>\n      <td>12</td>\n    </tr>\n    <tr>\n      <th>3</th>\n      <td>6</td>\n      <td>8</td>\n      <td>12</td>\n    </tr>\n    <tr>\n      <th>4</th>\n      <td>2</td>\n      <td>12</td>\n      <td>18</td>\n    </tr>\n  </tbody>\n</table>\n</div>",
                        "text/plain": "   shiftId  wstart  wend\n0        0       2     8\n1        1       8    12\n2        4       8    12\n3        6       8    12\n4        2      12    18"
                    },
                    "execution_count": 15,
                    "metadata": {},
                    "output_type": "execute_result"
                }
            ]
        },
        {
            "metadata": {},
            "cell_type": "markdown",
            "source": "Next, we state that for any pair of shifts that overlap in time, a nurse can be assigned to only one of the two."
        },
        {
            "metadata": {},
            "cell_type": "code",
            "source": "number_of_incompatible_shift_constraints = 0\nfor shift in df_sorted_shifts.itertuples():\n    # Iterate over following shifts\n    # 'shift[0]' contains the index of the current shift in the df_sorted_shifts Data Frame\n    for shift_2 in df_sorted_shifts.iloc[shift[0] + 1:].itertuples():\n        if (shift_2.wstart < shift.wend):\n            # Iterate over all nurses to force incompatible assignment for the current pair of overlapping shifts\n            for nurse_assignments in df_assigned_pivot[[shift.shiftId, shift_2.shiftId]].itertuples():                \n                # this is actually a logical OR\n                mdl.add_constraint(nurse_assignments[1] + nurse_assignments[2] <= 1)\n                number_of_incompatible_shift_constraints += 1\n        else:\n            # No need to test overlap with following shifts\n            break\nprint(\"#incompatible shift constraints: {}\".format(number_of_incompatible_shift_constraints))",
            "execution_count": 16,
            "outputs": [
                {
                    "name": "stdout",
                    "output_type": "stream",
                    "text": "#incompatible shift constraints: 640\n"
                }
            ]
        },
        {
            "metadata": {},
            "cell_type": "markdown",
            "source": "##### Vacations\n\nWhen the nurse is on vacation, he cannot be assigned to any shift starting that day.\n\nWe use the *pandas* *merge* operation to create a join between the *\"df_vacations\"*, *\"df_shifts\"*, and *\"df_assigned\"* DataFrames. Each row of the resulting DataFrame contains the assignment decision variable corresponding to the matching (nurse, shift) pair."
        },
        {
            "metadata": {},
            "cell_type": "code",
            "source": "# Add 'day of week' column to vacations Data Frame\ndf_vacations['dow'] = df_vacations.day.apply(day_to_day_of_week)\n\n# Join 'df_vacations', 'df_shifts' and 'df_assigned' Data Frames to create the list of 'forbidden' assigments.\n# The 'reset_index()' function is invoked to move 'shiftId' index as a column in 'df_shifts' Data Frame, and\n# to move the index pair ('all_nurses', 'all_shifts') as columns in 'df_assigned' Data Frame.\n# 'reset_index()' is invoked so that a join can be performed between Data Frame, based on column names.\ndf_assigned_reindexed = df_assigned.reset_index()\ndf_vacation_forbidden_assignments = df_vacations.merge(df_shifts.reset_index()[['dow', 'shiftId']]).merge(\n    df_assigned_reindexed, left_on=['nurse', 'shiftId'], right_on=['all_nurses', 'all_shifts'])\n\n# Here are the first few rows of the resulting Data Frames joins\ndf_vacation_forbidden_assignments.head()",
            "execution_count": 17,
            "outputs": [
                {
                    "data": {
                        "text/html": "<div>\n<style scoped>\n    .dataframe tbody tr th:only-of-type {\n        vertical-align: middle;\n    }\n\n    .dataframe tbody tr th {\n        vertical-align: top;\n    }\n\n    .dataframe thead th {\n        text-align: right;\n    }\n</style>\n<table border=\"1\" class=\"dataframe\">\n  <thead>\n    <tr style=\"text-align: right;\">\n      <th></th>\n      <th>nurse</th>\n      <th>day</th>\n      <th>dow</th>\n      <th>shiftId</th>\n      <th>all_nurses</th>\n      <th>all_shifts</th>\n      <th>assigned</th>\n    </tr>\n  </thead>\n  <tbody>\n    <tr>\n      <th>0</th>\n      <td>Anne</td>\n      <td>Friday</td>\n      <td>4</td>\n      <td>28</td>\n      <td>Anne</td>\n      <td>28</td>\n      <td>assign_Anne_28</td>\n    </tr>\n    <tr>\n      <th>1</th>\n      <td>Anne</td>\n      <td>Friday</td>\n      <td>4</td>\n      <td>29</td>\n      <td>Anne</td>\n      <td>29</td>\n      <td>assign_Anne_29</td>\n    </tr>\n    <tr>\n      <th>2</th>\n      <td>Anne</td>\n      <td>Friday</td>\n      <td>4</td>\n      <td>30</td>\n      <td>Anne</td>\n      <td>30</td>\n      <td>assign_Anne_30</td>\n    </tr>\n    <tr>\n      <th>3</th>\n      <td>Anne</td>\n      <td>Friday</td>\n      <td>4</td>\n      <td>31</td>\n      <td>Anne</td>\n      <td>31</td>\n      <td>assign_Anne_31</td>\n    </tr>\n    <tr>\n      <th>4</th>\n      <td>Anne</td>\n      <td>Friday</td>\n      <td>4</td>\n      <td>32</td>\n      <td>Anne</td>\n      <td>32</td>\n      <td>assign_Anne_32</td>\n    </tr>\n  </tbody>\n</table>\n</div>",
                        "text/plain": "  nurse     day  dow  shiftId all_nurses  all_shifts        assigned\n0  Anne  Friday    4       28       Anne          28  assign_Anne_28\n1  Anne  Friday    4       29       Anne          29  assign_Anne_29\n2  Anne  Friday    4       30       Anne          30  assign_Anne_30\n3  Anne  Friday    4       31       Anne          31  assign_Anne_31\n4  Anne  Friday    4       32       Anne          32  assign_Anne_32"
                    },
                    "execution_count": 17,
                    "metadata": {},
                    "output_type": "execute_result"
                }
            ]
        },
        {
            "metadata": {},
            "cell_type": "code",
            "source": "for forbidden_assignment in df_vacation_forbidden_assignments.itertuples():\n    # to forbid an assignment just set the variable to zero.\n    mdl.add_constraint(forbidden_assignment.assigned == 0)\nprint(\"# vacation forbids: {} assignments\".format(len(df_vacation_forbidden_assignments)))",
            "execution_count": 18,
            "outputs": [
                {
                    "name": "stdout",
                    "output_type": "stream",
                    "text": "# vacation forbids: 342 assignments\n"
                }
            ]
        },
        {
            "metadata": {},
            "cell_type": "markdown",
            "source": "##### Associations\n\nSome pairs of nurses get along particularly well, so we wish to assign them together as a team. In other words, for every such couple and for each shift, both assignment variables should always be equal.\nEither both nurses work the shift, or both do not.\n\nIn the same way we modeled *vacations*, we use the *pandas* merge operation to create a DataFrame for which each row contains the pair of nurse-shift assignment decision variables matching each association."
        },
        {
            "metadata": {},
            "cell_type": "code",
            "source": "# Join 'df_assignment' Data Frame twice, based on associations to get corresponding decision variables pairs for all shifts\n# The 'suffixes' parameter in the second merge indicates our preference for updating the name of columns that occur both\n# in the first and second argument Data Frames (in our case, these columns are 'all_nurses' and 'assigned').\ndf_preferred_assign = df_associations.merge(\n    df_assigned_reindexed, left_on='nurse1', right_on='all_nurses').merge(\n    df_assigned_reindexed, left_on=['nurse2', 'all_shifts'], right_on=['all_nurses', 'all_shifts'], suffixes=('_1','_2'))\n\n# Here are the first few rows of the resulting Data Frames joins\ndf_preferred_assign.head()",
            "execution_count": 19,
            "outputs": [
                {
                    "data": {
                        "text/html": "<div>\n<style scoped>\n    .dataframe tbody tr th:only-of-type {\n        vertical-align: middle;\n    }\n\n    .dataframe tbody tr th {\n        vertical-align: top;\n    }\n\n    .dataframe thead th {\n        text-align: right;\n    }\n</style>\n<table border=\"1\" class=\"dataframe\">\n  <thead>\n    <tr style=\"text-align: right;\">\n      <th></th>\n      <th>nurse1</th>\n      <th>nurse2</th>\n      <th>all_nurses_1</th>\n      <th>all_shifts</th>\n      <th>assigned_1</th>\n      <th>all_nurses_2</th>\n      <th>assigned_2</th>\n    </tr>\n  </thead>\n  <tbody>\n    <tr>\n      <th>0</th>\n      <td>Isabelle</td>\n      <td>Dee</td>\n      <td>Isabelle</td>\n      <td>0</td>\n      <td>assign_Isabelle_0</td>\n      <td>Dee</td>\n      <td>assign_Dee_0</td>\n    </tr>\n    <tr>\n      <th>1</th>\n      <td>Isabelle</td>\n      <td>Dee</td>\n      <td>Isabelle</td>\n      <td>1</td>\n      <td>assign_Isabelle_1</td>\n      <td>Dee</td>\n      <td>assign_Dee_1</td>\n    </tr>\n    <tr>\n      <th>2</th>\n      <td>Isabelle</td>\n      <td>Dee</td>\n      <td>Isabelle</td>\n      <td>2</td>\n      <td>assign_Isabelle_2</td>\n      <td>Dee</td>\n      <td>assign_Dee_2</td>\n    </tr>\n    <tr>\n      <th>3</th>\n      <td>Isabelle</td>\n      <td>Dee</td>\n      <td>Isabelle</td>\n      <td>3</td>\n      <td>assign_Isabelle_3</td>\n      <td>Dee</td>\n      <td>assign_Dee_3</td>\n    </tr>\n    <tr>\n      <th>4</th>\n      <td>Isabelle</td>\n      <td>Dee</td>\n      <td>Isabelle</td>\n      <td>4</td>\n      <td>assign_Isabelle_4</td>\n      <td>Dee</td>\n      <td>assign_Dee_4</td>\n    </tr>\n  </tbody>\n</table>\n</div>",
                        "text/plain": "     nurse1 nurse2 all_nurses_1  all_shifts         assigned_1 all_nurses_2  \\\n0  Isabelle    Dee     Isabelle           0  assign_Isabelle_0          Dee   \n1  Isabelle    Dee     Isabelle           1  assign_Isabelle_1          Dee   \n2  Isabelle    Dee     Isabelle           2  assign_Isabelle_2          Dee   \n3  Isabelle    Dee     Isabelle           3  assign_Isabelle_3          Dee   \n4  Isabelle    Dee     Isabelle           4  assign_Isabelle_4          Dee   \n\n     assigned_2  \n0  assign_Dee_0  \n1  assign_Dee_1  \n2  assign_Dee_2  \n3  assign_Dee_3  \n4  assign_Dee_4  "
                    },
                    "execution_count": 19,
                    "metadata": {},
                    "output_type": "execute_result"
                }
            ]
        },
        {
            "metadata": {},
            "cell_type": "markdown",
            "source": "The associations constraint can now easily be formulated by iterating on the rows of the *\"df_preferred_assign\"* DataFrame."
        },
        {
            "metadata": {},
            "cell_type": "code",
            "source": "for preferred_assign in df_preferred_assign.itertuples():\n    mdl.add_constraint(preferred_assign.assigned_1 == preferred_assign.assigned_2)",
            "execution_count": 20,
            "outputs": []
        },
        {
            "metadata": {},
            "cell_type": "markdown",
            "source": "##### Incompatibilities\n\nSimilarly, certain pairs of nurses do not get along well, and we want to avoid having them together on a shift.\nIn other terms, for each shift, both nurses of an incompatible pair cannot be assigned together to the sift. Again, we state a logical OR between the two assignments: at most one nurse from the pair can work the shift.\n\nWe first create a DataFrame whose rows contain pairs of invalid assignment decision variables, using the same *pandas* `merge` operations as in the previous step."
        },
        {
            "metadata": {},
            "cell_type": "code",
            "source": "# Join assignment Data Frame twice, based on incompatibilities Data Frame to get corresponding decision variables pairs\n#  for all shifts\ndf_incompatible_assign = df_incompatibilities.merge(\n    df_assigned_reindexed, left_on='nurse1', right_on='all_nurses').merge(\n    df_assigned_reindexed, left_on=['nurse2', 'all_shifts'], right_on=['all_nurses', 'all_shifts'], suffixes=('_1','_2'))\n\n# Here are the first few rows of the resulting Data Frames joins\ndf_incompatible_assign.head()",
            "execution_count": 21,
            "outputs": [
                {
                    "data": {
                        "text/html": "<div>\n<style scoped>\n    .dataframe tbody tr th:only-of-type {\n        vertical-align: middle;\n    }\n\n    .dataframe tbody tr th {\n        vertical-align: top;\n    }\n\n    .dataframe thead th {\n        text-align: right;\n    }\n</style>\n<table border=\"1\" class=\"dataframe\">\n  <thead>\n    <tr style=\"text-align: right;\">\n      <th></th>\n      <th>nurse1</th>\n      <th>nurse2</th>\n      <th>all_nurses_1</th>\n      <th>all_shifts</th>\n      <th>assigned_1</th>\n      <th>all_nurses_2</th>\n      <th>assigned_2</th>\n    </tr>\n  </thead>\n  <tbody>\n    <tr>\n      <th>0</th>\n      <td>Patricia</td>\n      <td>Patrick</td>\n      <td>Patricia</td>\n      <td>0</td>\n      <td>assign_Patricia_0</td>\n      <td>Patrick</td>\n      <td>assign_Patrick_0</td>\n    </tr>\n    <tr>\n      <th>1</th>\n      <td>Patricia</td>\n      <td>Patrick</td>\n      <td>Patricia</td>\n      <td>1</td>\n      <td>assign_Patricia_1</td>\n      <td>Patrick</td>\n      <td>assign_Patrick_1</td>\n    </tr>\n    <tr>\n      <th>2</th>\n      <td>Patricia</td>\n      <td>Patrick</td>\n      <td>Patricia</td>\n      <td>2</td>\n      <td>assign_Patricia_2</td>\n      <td>Patrick</td>\n      <td>assign_Patrick_2</td>\n    </tr>\n    <tr>\n      <th>3</th>\n      <td>Patricia</td>\n      <td>Patrick</td>\n      <td>Patricia</td>\n      <td>3</td>\n      <td>assign_Patricia_3</td>\n      <td>Patrick</td>\n      <td>assign_Patrick_3</td>\n    </tr>\n    <tr>\n      <th>4</th>\n      <td>Patricia</td>\n      <td>Patrick</td>\n      <td>Patricia</td>\n      <td>4</td>\n      <td>assign_Patricia_4</td>\n      <td>Patrick</td>\n      <td>assign_Patrick_4</td>\n    </tr>\n  </tbody>\n</table>\n</div>",
                        "text/plain": "     nurse1   nurse2 all_nurses_1  all_shifts         assigned_1 all_nurses_2  \\\n0  Patricia  Patrick     Patricia           0  assign_Patricia_0      Patrick   \n1  Patricia  Patrick     Patricia           1  assign_Patricia_1      Patrick   \n2  Patricia  Patrick     Patricia           2  assign_Patricia_2      Patrick   \n3  Patricia  Patrick     Patricia           3  assign_Patricia_3      Patrick   \n4  Patricia  Patrick     Patricia           4  assign_Patricia_4      Patrick   \n\n         assigned_2  \n0  assign_Patrick_0  \n1  assign_Patrick_1  \n2  assign_Patrick_2  \n3  assign_Patrick_3  \n4  assign_Patrick_4  "
                    },
                    "execution_count": 21,
                    "metadata": {},
                    "output_type": "execute_result"
                }
            ]
        },
        {
            "metadata": {},
            "cell_type": "markdown",
            "source": "The incompatibilities constraint can now easily be formulated, by iterating on the rows of the *\"df_incompatible_assign\"* DataFrame."
        },
        {
            "metadata": {},
            "cell_type": "code",
            "source": "for incompatible_assign in df_incompatible_assign.itertuples():\n    mdl.add_constraint(incompatible_assign.assigned_1 + incompatible_assign.assigned_2 <= 1)",
            "execution_count": 22,
            "outputs": []
        },
        {
            "metadata": {},
            "cell_type": "markdown",
            "source": "##### Constraints on work time\n\nRegulations force constraints on the total work time over a week;\nand we compute this total work time in a new variable. We store the variable in an extra column in the nurse DataFrame.\n\nThe variable is declared as _continuous_ though it contains only integer values. This is done to avoid adding unnecessary integer variables for the _branch and bound_ algorithm. \nThese variables are not true decision variables; they are used to express work constraints.\n\nFrom a *pandas* perspective, we apply a function over the rows of the nurse DataFrame to create this variable and store it into a new column of the DataFrame."
        },
        {
            "metadata": {},
            "cell_type": "code",
            "source": "# auxiliary function to create worktime variable from a row\ndef make_var(row, varname_fmt):\n    return mdl.continuous_var(name=varname_fmt % row.name, lb=0)\n\n# apply the function over nurse rows and store result in a new column\ndf_nurses[\"worktime\"] = df_nurses.apply(lambda r: make_var(r, \"worktime_%s\"), axis=1)\n\n# display nurse dataframe\ndf_nurses",
            "execution_count": 23,
            "outputs": [
                {
                    "data": {
                        "text/html": "<div>\n<style scoped>\n    .dataframe tbody tr th:only-of-type {\n        vertical-align: middle;\n    }\n\n    .dataframe tbody tr th {\n        vertical-align: top;\n    }\n\n    .dataframe thead th {\n        text-align: right;\n    }\n</style>\n<table border=\"1\" class=\"dataframe\">\n  <thead>\n    <tr style=\"text-align: right;\">\n      <th></th>\n      <th>seniority</th>\n      <th>qualification</th>\n      <th>pay_rate</th>\n      <th>worktime</th>\n    </tr>\n    <tr>\n      <th>name</th>\n      <th></th>\n      <th></th>\n      <th></th>\n      <th></th>\n    </tr>\n  </thead>\n  <tbody>\n    <tr>\n      <th>Anne</th>\n      <td>11</td>\n      <td>1</td>\n      <td>25</td>\n      <td>worktime_Anne</td>\n    </tr>\n    <tr>\n      <th>Bethanie</th>\n      <td>4</td>\n      <td>5</td>\n      <td>28</td>\n      <td>worktime_Bethanie</td>\n    </tr>\n    <tr>\n      <th>Betsy</th>\n      <td>2</td>\n      <td>2</td>\n      <td>17</td>\n      <td>worktime_Betsy</td>\n    </tr>\n    <tr>\n      <th>Cathy</th>\n      <td>2</td>\n      <td>2</td>\n      <td>17</td>\n      <td>worktime_Cathy</td>\n    </tr>\n    <tr>\n      <th>Cecilia</th>\n      <td>9</td>\n      <td>5</td>\n      <td>38</td>\n      <td>worktime_Cecilia</td>\n    </tr>\n    <tr>\n      <th>Chris</th>\n      <td>11</td>\n      <td>4</td>\n      <td>38</td>\n      <td>worktime_Chris</td>\n    </tr>\n    <tr>\n      <th>Cindy</th>\n      <td>5</td>\n      <td>2</td>\n      <td>21</td>\n      <td>worktime_Cindy</td>\n    </tr>\n    <tr>\n      <th>David</th>\n      <td>1</td>\n      <td>2</td>\n      <td>15</td>\n      <td>worktime_David</td>\n    </tr>\n    <tr>\n      <th>Debbie</th>\n      <td>7</td>\n      <td>2</td>\n      <td>24</td>\n      <td>worktime_Debbie</td>\n    </tr>\n    <tr>\n      <th>Dee</th>\n      <td>3</td>\n      <td>3</td>\n      <td>21</td>\n      <td>worktime_Dee</td>\n    </tr>\n    <tr>\n      <th>Gloria</th>\n      <td>8</td>\n      <td>2</td>\n      <td>25</td>\n      <td>worktime_Gloria</td>\n    </tr>\n    <tr>\n      <th>Isabelle</th>\n      <td>3</td>\n      <td>1</td>\n      <td>16</td>\n      <td>worktime_Isabelle</td>\n    </tr>\n    <tr>\n      <th>Jane</th>\n      <td>3</td>\n      <td>4</td>\n      <td>23</td>\n      <td>worktime_Jane</td>\n    </tr>\n    <tr>\n      <th>Janelle</th>\n      <td>4</td>\n      <td>3</td>\n      <td>22</td>\n      <td>worktime_Janelle</td>\n    </tr>\n    <tr>\n      <th>Janice</th>\n      <td>2</td>\n      <td>2</td>\n      <td>17</td>\n      <td>worktime_Janice</td>\n    </tr>\n    <tr>\n      <th>Jemma</th>\n      <td>2</td>\n      <td>4</td>\n      <td>22</td>\n      <td>worktime_Jemma</td>\n    </tr>\n    <tr>\n      <th>Joan</th>\n      <td>5</td>\n      <td>3</td>\n      <td>24</td>\n      <td>worktime_Joan</td>\n    </tr>\n    <tr>\n      <th>Joyce</th>\n      <td>8</td>\n      <td>3</td>\n      <td>29</td>\n      <td>worktime_Joyce</td>\n    </tr>\n    <tr>\n      <th>Jude</th>\n      <td>4</td>\n      <td>3</td>\n      <td>22</td>\n      <td>worktime_Jude</td>\n    </tr>\n    <tr>\n      <th>Julie</th>\n      <td>6</td>\n      <td>2</td>\n      <td>22</td>\n      <td>worktime_Julie</td>\n    </tr>\n    <tr>\n      <th>Juliet</th>\n      <td>7</td>\n      <td>4</td>\n      <td>31</td>\n      <td>worktime_Juliet</td>\n    </tr>\n    <tr>\n      <th>Kate</th>\n      <td>5</td>\n      <td>3</td>\n      <td>24</td>\n      <td>worktime_Kate</td>\n    </tr>\n    <tr>\n      <th>Nancy</th>\n      <td>8</td>\n      <td>4</td>\n      <td>32</td>\n      <td>worktime_Nancy</td>\n    </tr>\n    <tr>\n      <th>Nathalie</th>\n      <td>9</td>\n      <td>5</td>\n      <td>38</td>\n      <td>worktime_Nathalie</td>\n    </tr>\n    <tr>\n      <th>Nicole</th>\n      <td>0</td>\n      <td>2</td>\n      <td>14</td>\n      <td>worktime_Nicole</td>\n    </tr>\n    <tr>\n      <th>Patricia</th>\n      <td>1</td>\n      <td>1</td>\n      <td>13</td>\n      <td>worktime_Patricia</td>\n    </tr>\n    <tr>\n      <th>Patrick</th>\n      <td>6</td>\n      <td>1</td>\n      <td>19</td>\n      <td>worktime_Patrick</td>\n    </tr>\n    <tr>\n      <th>Roberta</th>\n      <td>3</td>\n      <td>5</td>\n      <td>26</td>\n      <td>worktime_Roberta</td>\n    </tr>\n    <tr>\n      <th>Suzanne</th>\n      <td>5</td>\n      <td>1</td>\n      <td>18</td>\n      <td>worktime_Suzanne</td>\n    </tr>\n    <tr>\n      <th>Vickie</th>\n      <td>7</td>\n      <td>1</td>\n      <td>20</td>\n      <td>worktime_Vickie</td>\n    </tr>\n    <tr>\n      <th>Wendie</th>\n      <td>5</td>\n      <td>2</td>\n      <td>21</td>\n      <td>worktime_Wendie</td>\n    </tr>\n    <tr>\n      <th>Zoe</th>\n      <td>8</td>\n      <td>3</td>\n      <td>29</td>\n      <td>worktime_Zoe</td>\n    </tr>\n  </tbody>\n</table>\n</div>",
                        "text/plain": "          seniority  qualification  pay_rate           worktime\nname                                                           \nAnne             11              1        25      worktime_Anne\nBethanie          4              5        28  worktime_Bethanie\nBetsy             2              2        17     worktime_Betsy\nCathy             2              2        17     worktime_Cathy\nCecilia           9              5        38   worktime_Cecilia\nChris            11              4        38     worktime_Chris\nCindy             5              2        21     worktime_Cindy\nDavid             1              2        15     worktime_David\nDebbie            7              2        24    worktime_Debbie\nDee               3              3        21       worktime_Dee\nGloria            8              2        25    worktime_Gloria\nIsabelle          3              1        16  worktime_Isabelle\nJane              3              4        23      worktime_Jane\nJanelle           4              3        22   worktime_Janelle\nJanice            2              2        17    worktime_Janice\nJemma             2              4        22     worktime_Jemma\nJoan              5              3        24      worktime_Joan\nJoyce             8              3        29     worktime_Joyce\nJude              4              3        22      worktime_Jude\nJulie             6              2        22     worktime_Julie\nJuliet            7              4        31    worktime_Juliet\nKate              5              3        24      worktime_Kate\nNancy             8              4        32     worktime_Nancy\nNathalie          9              5        38  worktime_Nathalie\nNicole            0              2        14    worktime_Nicole\nPatricia          1              1        13  worktime_Patricia\nPatrick           6              1        19   worktime_Patrick\nRoberta           3              5        26   worktime_Roberta\nSuzanne           5              1        18   worktime_Suzanne\nVickie            7              1        20    worktime_Vickie\nWendie            5              2        21    worktime_Wendie\nZoe               8              3        29       worktime_Zoe"
                    },
                    "execution_count": 23,
                    "metadata": {},
                    "output_type": "execute_result"
                }
            ]
        },
        {
            "metadata": {},
            "cell_type": "markdown",
            "source": "###### Define total work time\n\nWork time variables must be constrained to be equal to the sum of hours actually worked.\n\nWe use the *pandas* *groupby* operation to collect all assignment decision variables for each nurse in a separate series. Then, we iterate over nurses to post a constraint calculating the actual worktime for each nurse as the dot product of the series of nurse-shift assignments with the series of shift durations."
        },
        {
            "metadata": {},
            "cell_type": "code",
            "source": "# Use pandas' groupby operation to enforce constraint calculating worktime for each nurse as the sum of all assigned\n#  shifts times the duration of each shift\nfor nurse, nurse_assignments in df_assigned.groupby(level='all_nurses'):\n    mdl.add_constraint(df_nurses.worktime[nurse] == mdl.dot(nurse_assignments.assigned, df_shifts.duration))\n                       \n# print model information and check we now have 32 extra continuous variables\nmdl.print_information()",
            "execution_count": 24,
            "outputs": [
                {
                    "name": "stdout",
                    "output_type": "stream",
                    "text": "Model: nurses\n - number of variables: 1344\n   - binary=1312, integer=0, continuous=32\n - number of constraints: 1547\n   - linear=1547\n - parameters: defaults\n - problem type is: MILP\n"
                }
            ]
        },
        {
            "metadata": {},
            "cell_type": "markdown",
            "source": "###### Maximum work time\n\nFor each nurse, we add a constraint to enforce the maximum work time for a week.\nAgain we use the `apply` method, this time with an anonymous lambda function."
        },
        {
            "metadata": {},
            "cell_type": "code",
            "source": "# we use pandas' apply() method to set an upper bound on all worktime variables.\ndef set_max_work_time(v):\n    v.ub = max_work_time\n    # Optionally: return a string for fancy display of the constraint in the Output cell\n    return str(v) + ' <= ' + str(v.ub)\n\ndf_nurses[\"worktime\"].apply(convert_dtype=False, func=set_max_work_time)",
            "execution_count": 25,
            "outputs": [
                {
                    "data": {
                        "text/plain": "name\nAnne            worktime_Anne <= 40\nBethanie    worktime_Bethanie <= 40\nBetsy          worktime_Betsy <= 40\nCathy          worktime_Cathy <= 40\nCecilia      worktime_Cecilia <= 40\nChris          worktime_Chris <= 40\nCindy          worktime_Cindy <= 40\nDavid          worktime_David <= 40\nDebbie        worktime_Debbie <= 40\nDee              worktime_Dee <= 40\nGloria        worktime_Gloria <= 40\nIsabelle    worktime_Isabelle <= 40\nJane            worktime_Jane <= 40\nJanelle      worktime_Janelle <= 40\nJanice        worktime_Janice <= 40\nJemma          worktime_Jemma <= 40\nJoan            worktime_Joan <= 40\nJoyce          worktime_Joyce <= 40\nJude            worktime_Jude <= 40\nJulie          worktime_Julie <= 40\nJuliet        worktime_Juliet <= 40\nKate            worktime_Kate <= 40\nNancy          worktime_Nancy <= 40\nNathalie    worktime_Nathalie <= 40\nNicole        worktime_Nicole <= 40\nPatricia    worktime_Patricia <= 40\nPatrick      worktime_Patrick <= 40\nRoberta      worktime_Roberta <= 40\nSuzanne      worktime_Suzanne <= 40\nVickie        worktime_Vickie <= 40\nWendie        worktime_Wendie <= 40\nZoe              worktime_Zoe <= 40\nName: worktime, dtype: object"
                    },
                    "execution_count": 25,
                    "metadata": {},
                    "output_type": "execute_result"
                }
            ]
        },
        {
            "metadata": {},
            "cell_type": "markdown",
            "source": "##### Minimum requirement for shifts\n\nEach shift requires a minimum number of nurses. \nFor each shift, the sum over all nurses of assignments to this shift\nmust be greater than the minimum requirement.\n\nThe *pandas* *groupby* operation is invoked to collect all assignment decision variables for each shift in a separate series. Then, we iterate over shifts to post the constraint enforcing the minimum number of nurse assignments for each shift."
        },
        {
            "metadata": {},
            "cell_type": "code",
            "source": "# Use pandas' groupby operation to enforce minimum requirement constraint for each shift\nfor shift, shift_nurses in df_assigned.groupby(level='all_shifts'):\n    mdl.add_constraint(mdl.sum(shift_nurses.assigned) >= df_shifts.min_req[shift])",
            "execution_count": 26,
            "outputs": []
        },
        {
            "metadata": {},
            "cell_type": "markdown",
            "source": "#### Express the objective\n\nThe objective mixes different (and contradictory) KPIs. \n\nThe first KPI is the total salary cost, computed as the sum of work times over all nurses, weighted by pay rate.\n\nWe compute this KPI as an expression from the variables we previously defined by using the panda summation over the DOcplex objects."
        },
        {
            "metadata": {},
            "cell_type": "code",
            "source": "# again leverage pandas to create a series of expressions: costs of each nurse\ntotal_salary_series = df_nurses.worktime * df_nurses.pay_rate\n\n# compute global salary cost using pandas sum()\n# Note that the result is a DOcplex expression: DOcplex if fully compatible with pandas\ntotal_salary_cost = total_salary_series.sum()\nmdl.add_kpi(total_salary_cost, \"Total salary cost\")",
            "execution_count": 27,
            "outputs": [
                {
                    "data": {
                        "text/plain": "DecisionKPI(name=Total salary cost,expr=25worktime_Anne+28worktime_Bethanie+17worktime_Betsy+17worktime_..)"
                    },
                    "execution_count": 27,
                    "metadata": {},
                    "output_type": "execute_result"
                }
            ]
        },
        {
            "metadata": {},
            "cell_type": "markdown",
            "source": "##### Minimizing salary cost\n\nIn a preliminary version of the model, we minimize the total salary cost. This is accomplished\nusing the `Model.minimize()` method."
        },
        {
            "metadata": {},
            "cell_type": "code",
            "source": "mdl.minimize(total_salary_cost)\nmdl.print_information()",
            "execution_count": 28,
            "outputs": [
                {
                    "name": "stdout",
                    "output_type": "stream",
                    "text": "Model: nurses\n - number of variables: 1344\n   - binary=1312, integer=0, continuous=32\n - number of constraints: 1588\n   - linear=1588\n - parameters: defaults\n - problem type is: MILP\n"
                }
            ]
        },
        {
            "metadata": {},
            "cell_type": "markdown",
            "source": "#### Solve with the Decision Optimization solve service\n\nNow we have everything we need to solve the model, using `Model.solve()`. "
        },
        {
            "metadata": {},
            "cell_type": "code",
            "source": "# Set Cplex mipgap to 1e-5 to enforce precision to be of the order of a unit (objective value magnitude is ~1e+5).\nmdl.parameters.mip.tolerances.mipgap = 1e-5\n\ns = mdl.solve(log_output=True)\nassert s, \"solve failed\"\nmdl.report()",
            "execution_count": 29,
            "outputs": [
                {
                    "name": "stdout",
                    "output_type": "stream",
                    "text": "WARNING: Number of workers has been reduced to 2 to comply with platform limitations.\nCPXPARAM_Read_DataCheck                          1\nCPXPARAM_Threads                                 2\nCPXPARAM_MIP_Tolerances_MIPGap                   1.0000000000000001e-05\nTried aggregator 2 times.\nMIP Presolve eliminated 997 rows and 379 columns.\nMIP Presolve modified 90 coefficients.\nAggregator did 41 substitutions.\nReduced MIP has 550 rows, 922 columns, and 2862 nonzeros.\nReduced MIP has 892 binaries, 0 generals, 0 SOSs, and 0 indicators.\nPresolve time = 0.01 sec. (3.68 ticks)\nProbing time = 0.00 sec. (0.50 ticks)\nTried aggregator 1 time.\nReduced MIP has 550 rows, 922 columns, and 2862 nonzeros.\nReduced MIP has 892 binaries, 30 generals, 0 SOSs, and 0 indicators.\nPresolve time = 0.00 sec. (2.03 ticks)\nProbing time = 0.00 sec. (0.50 ticks)\nClique table members: 479.\nMIP emphasis: balance optimality and feasibility.\nMIP search method: dynamic search.\nParallel mode: deterministic, using up to 2 threads.\nRoot relaxation solution time = 0.01 sec. (4.56 ticks)\n\n        Nodes                                         Cuts/\n   Node  Left     Objective  IInf  Best Integer    Best Bound    ItCnt     Gap\n\n      0     0    28824.0000    48                  28824.0000      473         \n      0     0    28824.0000    62                    Cuts: 98      649         \n      0     0    28824.0000    35                    Cuts: 44      716         \n      0     0    28824.0000    41                    Cuts: 55      795         \n*     0+    0                        29100.0000    28824.0000             0.95%\n*     0+    0                        29068.0000    28824.0000             0.84%\n      0     2    28824.0000    10    29068.0000    28824.0000      795    0.84%\nElapsed time = 0.23 sec. (138.91 ticks, tree = 0.02 MB, solutions = 2)\n*    10+    1                        29046.0000    28824.0000             0.76%\n*    14+    1                        28944.0000    28824.0000             0.41%\n*   746+  635                        28882.0000    28824.0000             0.20%\n    805   687    28824.0000    16    28882.0000    28824.0000    13566    0.20%\n*   845+  712                        28856.0000    28824.0000             0.11%\n*   865+  685                        28824.0000    28824.0000             0.00%\n\nGUB cover cuts applied:  12\nCover cuts applied:  25\nFlow cuts applied:  5\nMixed integer rounding cuts applied:  11\nZero-half cuts applied:  13\nLift and project cuts applied:  5\n\nRoot node processing (before b&c):\n  Real time             =    0.24 sec. (138.68 ticks)\nParallel b&c, 2 threads:\n  Real time             =    0.40 sec. (279.29 ticks)\n  Sync time (average)   =    0.03 sec.\n  Wait time (average)   =    0.00 sec.\n                          ------------\nTotal (root+branch&cut) =    0.64 sec. (417.97 ticks)\n* model nurses solved with objective = 28824.000\n*  KPI: Total salary cost = 28824.000\n"
                }
            ]
        },
        {
            "metadata": {},
            "cell_type": "markdown",
            "source": "### Step 5: Investigate the solution and then run an example analysis\n\nWe take advantage of *pandas* to analyze the results. First we store the solution values of the assignment variables into a new *pandas* Series.\n\nCalling `solution_value` on a DOcplex variable returns its value in the solution (provided the model has been successfully solved)."
        },
        {
            "metadata": {},
            "cell_type": "code",
            "source": "# Create a pandas Series containing actual shift assignment decision variables value\ns_assigned = df_assigned.assigned.apply(lambda v: v.solution_value)\n\n# Create a pivot table by (nurses, shifts), using pandas' \"unstack\" method to transform the 'all_shifts' row index\n#  into columns\ndf_res = s_assigned.unstack(level='all_shifts')\n\n# Display the first few rows of the resulting pivot table\ndf_res.head()",
            "execution_count": 30,
            "outputs": [
                {
                    "data": {
                        "text/html": "<div>\n<style scoped>\n    .dataframe tbody tr th:only-of-type {\n        vertical-align: middle;\n    }\n\n    .dataframe tbody tr th {\n        vertical-align: top;\n    }\n\n    .dataframe thead th {\n        text-align: right;\n    }\n</style>\n<table border=\"1\" class=\"dataframe\">\n  <thead>\n    <tr style=\"text-align: right;\">\n      <th>all_shifts</th>\n      <th>0</th>\n      <th>1</th>\n      <th>2</th>\n      <th>3</th>\n      <th>4</th>\n      <th>5</th>\n      <th>6</th>\n      <th>7</th>\n      <th>8</th>\n      <th>9</th>\n      <th>...</th>\n      <th>31</th>\n      <th>32</th>\n      <th>33</th>\n      <th>34</th>\n      <th>35</th>\n      <th>36</th>\n      <th>37</th>\n      <th>38</th>\n      <th>39</th>\n      <th>40</th>\n    </tr>\n    <tr>\n      <th>all_nurses</th>\n      <th></th>\n      <th></th>\n      <th></th>\n      <th></th>\n      <th></th>\n      <th></th>\n      <th></th>\n      <th></th>\n      <th></th>\n      <th></th>\n      <th></th>\n      <th></th>\n      <th></th>\n      <th></th>\n      <th></th>\n      <th></th>\n      <th></th>\n      <th></th>\n      <th></th>\n      <th></th>\n      <th></th>\n    </tr>\n  </thead>\n  <tbody>\n    <tr>\n      <th>Anne</th>\n      <td>1.0</td>\n      <td>1.0</td>\n      <td>0.0</td>\n      <td>0.0</td>\n      <td>0.0</td>\n      <td>1.0</td>\n      <td>0.0</td>\n      <td>0.0</td>\n      <td>0.0</td>\n      <td>0.0</td>\n      <td>...</td>\n      <td>0.0</td>\n      <td>0.0</td>\n      <td>0.0</td>\n      <td>0.0</td>\n      <td>0.0</td>\n      <td>0.0</td>\n      <td>0.0</td>\n      <td>0.0</td>\n      <td>0.0</td>\n      <td>0.0</td>\n    </tr>\n    <tr>\n      <th>Bethanie</th>\n      <td>0.0</td>\n      <td>1.0</td>\n      <td>0.0</td>\n      <td>0.0</td>\n      <td>0.0</td>\n      <td>0.0</td>\n      <td>0.0</td>\n      <td>1.0</td>\n      <td>0.0</td>\n      <td>0.0</td>\n      <td>...</td>\n      <td>0.0</td>\n      <td>0.0</td>\n      <td>1.0</td>\n      <td>0.0</td>\n      <td>0.0</td>\n      <td>0.0</td>\n      <td>1.0</td>\n      <td>0.0</td>\n      <td>0.0</td>\n      <td>0.0</td>\n    </tr>\n    <tr>\n      <th>Betsy</th>\n      <td>0.0</td>\n      <td>0.0</td>\n      <td>0.0</td>\n      <td>0.0</td>\n      <td>0.0</td>\n      <td>0.0</td>\n      <td>0.0</td>\n      <td>0.0</td>\n      <td>0.0</td>\n      <td>1.0</td>\n      <td>...</td>\n      <td>1.0</td>\n      <td>1.0</td>\n      <td>0.0</td>\n      <td>0.0</td>\n      <td>0.0</td>\n      <td>0.0</td>\n      <td>0.0</td>\n      <td>0.0</td>\n      <td>0.0</td>\n      <td>0.0</td>\n    </tr>\n    <tr>\n      <th>Cathy</th>\n      <td>0.0</td>\n      <td>0.0</td>\n      <td>0.0</td>\n      <td>0.0</td>\n      <td>0.0</td>\n      <td>0.0</td>\n      <td>1.0</td>\n      <td>1.0</td>\n      <td>0.0</td>\n      <td>0.0</td>\n      <td>...</td>\n      <td>0.0</td>\n      <td>1.0</td>\n      <td>1.0</td>\n      <td>0.0</td>\n      <td>0.0</td>\n      <td>1.0</td>\n      <td>1.0</td>\n      <td>0.0</td>\n      <td>0.0</td>\n      <td>0.0</td>\n    </tr>\n    <tr>\n      <th>Cecilia</th>\n      <td>0.0</td>\n      <td>0.0</td>\n      <td>0.0</td>\n      <td>0.0</td>\n      <td>0.0</td>\n      <td>0.0</td>\n      <td>1.0</td>\n      <td>0.0</td>\n      <td>0.0</td>\n      <td>0.0</td>\n      <td>...</td>\n      <td>0.0</td>\n      <td>0.0</td>\n      <td>0.0</td>\n      <td>0.0</td>\n      <td>0.0</td>\n      <td>0.0</td>\n      <td>0.0</td>\n      <td>1.0</td>\n      <td>0.0</td>\n      <td>0.0</td>\n    </tr>\n  </tbody>\n</table>\n<p>5 rows \u00d7 41 columns</p>\n</div>",
                        "text/plain": "all_shifts   0    1    2    3    4    5    6    7    8    9   ...   31   32  \\\nall_nurses                                                    ...             \nAnne        1.0  1.0  0.0  0.0  0.0  1.0  0.0  0.0  0.0  0.0  ...  0.0  0.0   \nBethanie    0.0  1.0  0.0  0.0  0.0  0.0  0.0  1.0  0.0  0.0  ...  0.0  0.0   \nBetsy       0.0  0.0  0.0  0.0  0.0  0.0  0.0  0.0  0.0  1.0  ...  1.0  1.0   \nCathy       0.0  0.0  0.0  0.0  0.0  0.0  1.0  1.0  0.0  0.0  ...  0.0  1.0   \nCecilia     0.0  0.0  0.0  0.0  0.0  0.0  1.0  0.0  0.0  0.0  ...  0.0  0.0   \n\nall_shifts   33   34   35   36   37   38   39   40  \nall_nurses                                          \nAnne        0.0  0.0  0.0  0.0  0.0  0.0  0.0  0.0  \nBethanie    1.0  0.0  0.0  0.0  1.0  0.0  0.0  0.0  \nBetsy       0.0  0.0  0.0  0.0  0.0  0.0  0.0  0.0  \nCathy       1.0  0.0  0.0  1.0  1.0  0.0  0.0  0.0  \nCecilia     0.0  0.0  0.0  0.0  0.0  1.0  0.0  0.0  \n\n[5 rows x 41 columns]"
                    },
                    "execution_count": 30,
                    "metadata": {},
                    "output_type": "execute_result"
                }
            ]
        },
        {
            "metadata": {},
            "cell_type": "markdown",
            "source": "#### Analyzing how worktime is distributed\n\nLet's analyze how worktime is distributed among nurses. \n\nFirst, we compute the global average work time as the total minimum requirement in hours, divided by number of nurses."
        },
        {
            "metadata": {},
            "cell_type": "code",
            "source": "s_demand  = df_shifts.min_req * df_shifts.duration\ntotal_demand = s_demand.sum()\navg_worktime = total_demand / float(len(all_nurses))\nprint(\"* theoretical average work time is {0:g} h\".format(avg_worktime))",
            "execution_count": 31,
            "outputs": [
                {
                    "name": "stdout",
                    "output_type": "stream",
                    "text": "* theoretical average work time is 39 h\n"
                }
            ]
        },
        {
            "metadata": {},
            "cell_type": "markdown",
            "source": "Let's analyze the series of deviations to the average, stored in a *pandas* Series."
        },
        {
            "metadata": {},
            "cell_type": "code",
            "source": "# a pandas series of worktimes solution values\ns_worktime = df_nurses.worktime.apply(lambda v: v.solution_value)\n\n# returns a new series computed as deviation from average\ns_to_mean = s_worktime - avg_worktime\n\n# take the absolute value\ns_abs_to_mean = s_to_mean.apply(abs)\n\n\ntotal_to_mean = s_abs_to_mean.sum()\nprint(\"* the sum of absolute deviations from mean is {}\".format(total_to_mean))",
            "execution_count": 32,
            "outputs": [
                {
                    "name": "stdout",
                    "output_type": "stream",
                    "text": "* the sum of absolute deviations from mean is 58.0\n"
                }
            ]
        },
        {
            "metadata": {},
            "cell_type": "markdown",
            "source": "To see how work time is distributed among nurses, print a histogram of work time values.\nNote that, as all time data are integers, work times in the solution can take only integer values."
        },
        {
            "metadata": {},
            "cell_type": "code",
            "source": "import matplotlib.pyplot as plt\n%matplotlib inline\n\n# we can also plot as a histogram the distribution of worktimes\ns_worktime.plot.hist(color='LightBlue')\nplt.xlabel(\"worktime\")",
            "execution_count": 33,
            "outputs": [
                {
                    "data": {
                        "text/plain": "Text(0.5, 0, 'worktime')"
                    },
                    "execution_count": 33,
                    "metadata": {},
                    "output_type": "execute_result"
                },
                {
                    "data": {
                        "image/png": "[encoded data removed]",
                        "text/plain": "<Figure size 432x288 with 1 Axes>"
                    },
                    "metadata": {
                        "needs_background": "light"
                    },
                    "output_type": "display_data"
                }
            ]
        },
        {
            "metadata": {},
            "cell_type": "markdown",
            "source": "#### How shifts are distributed\n\nLet's now analyze the solution from the _number of shifts_ perspective.\nHow many shifts does each nurse work? Are these shifts fairly distributed amongst nurses?\n\nWe compute a new column in our result DataFrame for the number of shifts worked,\nby summing rows (the *\"axis=1\"* argument in the *sum()* call indicates to *pandas* that each sum is performed by row instead of column):"
        },
        {
            "metadata": {},
            "cell_type": "code",
            "source": "# a pandas series of #shifts worked\ndf_worked = df_res[all_shifts].sum(axis=1)\ndf_res[\"worked\"] = df_worked\n\ndf_worked.plot.hist(color=\"gold\", xlim=(0,10))\nplt.ylabel(\"#shifts worked\")",
            "execution_count": 34,
            "outputs": [
                {
                    "data": {
                        "text/plain": "Text(0, 0.5, '#shifts worked')"
                    },
                    "execution_count": 34,
                    "metadata": {},
                    "output_type": "execute_result"
                },
                {
                    "data": {
                        "image/png": "[encoded data removed]",
                        "text/plain": "<Figure size 432x288 with 1 Axes>"
                    },
                    "metadata": {
                        "needs_background": "light"
                    },
                    "output_type": "display_data"
                }
            ]
        },
        {
            "metadata": {},
            "cell_type": "markdown",
            "source": "We see that one nurse works significantly fewer shifts than others do. What is the average number of shifts worked by a nurse? This is equal to the total demand divided by the number of nurses.\n\nOf course, this yields a fractional number of shifts that is not practical, but nonetheless will help us quantify\nthe _fairness_ in shift distribution."
        },
        {
            "metadata": {},
            "cell_type": "code",
            "source": "avg_worked = df_shifts[\"min_req\"].sum() / float(len(all_nurses))\nprint(\"-- expected avg #shifts worked is {}\".format(avg_worked))\n\nworked_to_avg = df_res[\"worked\"] - avg_worked\ntotal_to_mean = worked_to_avg.apply(abs).sum()\nprint(\"-- total absolute deviation to mean #shifts is {}\".format(total_to_mean))",
            "execution_count": 35,
            "outputs": [
                {
                    "name": "stdout",
                    "output_type": "stream",
                    "text": "-- expected avg #shifts worked is 6.875\n-- total absolute deviation to mean #shifts is 18.25\n"
                }
            ]
        },
        {
            "metadata": {},
            "cell_type": "markdown",
            "source": "### Introducing a fairness goal\n\nAs the above diagram suggests, the distribution of shifts could be improved.\nWe implement this by adding one extra objective, _fairness_, which balances\nthe shifts assigned over nurses.\n\nNote that we can edit the model, that  is add (or remove) constraints, even after it has been solved. \n\n### Step #1 : Introduce three new variables per nurse to model the \nnumber of shifts worked and positive and negative deviations to the average."
        },
        {
            "metadata": {},
            "cell_type": "code",
            "source": "# add two extra variables per nurse: deviations above and below average\ndf_nurses[\"worked\"]      = df_nurses.apply(lambda r: make_var(r, \"worked%s\"), axis=1)\ndf_nurses[\"overworked\"]  = df_nurses.apply(lambda r: make_var(r, \"overw_%s\"), axis=1)\ndf_nurses[\"underworked\"] = df_nurses.apply(lambda r: make_var(r, \"underw_%s\"), axis=1)",
            "execution_count": 36,
            "outputs": []
        },
        {
            "metadata": {},
            "cell_type": "markdown",
            "source": "### Step #2 : Post the constraint that links these variables together."
        },
        {
            "metadata": {},
            "cell_type": "code",
            "source": "# Use the pandas groupby operation to enforce the constraint calculating number of worked shifts for each nurse\nfor nurse, nurse_assignments in df_assigned.groupby(level='all_nurses'):\n    # nb of worked shifts is sum of assigned shifts\n    mdl.add_constraint(df_nurses.worked[nurse] == mdl.sum(nurse_assignments.assigned))\n\nfor nurse in df_nurses.itertuples():\n    # nb worked is average + over - under\n    mdl.add_constraint(nurse.worked == avg_worked + nurse.overworked - nurse.underworked)",
            "execution_count": 37,
            "outputs": []
        },
        {
            "metadata": {},
            "cell_type": "markdown",
            "source": "### Step #3 : Define KPIs to measure the result after solve."
        },
        {
            "metadata": {},
            "cell_type": "code",
            "source": "# finally, define kpis for over and under average quantities\ntotal_overw = mdl.sum(df_nurses[\"overworked\"])\nmdl.add_kpi(total_overw, \"Total over-worked\")\ntotal_underw = mdl.sum(df_nurses[\"underworked\"])\nmdl.add_kpi(total_underw, \"Total under-worked\")",
            "execution_count": 38,
            "outputs": [
                {
                    "data": {
                        "text/plain": "DecisionKPI(name=Total under-worked,expr=underw_Anne+underw_Bethanie+underw_Betsy+underw_Cathy+underw_Cec..)"
                    },
                    "execution_count": 38,
                    "metadata": {},
                    "output_type": "execute_result"
                }
            ]
        },
        {
            "metadata": {},
            "cell_type": "markdown",
            "source": "Finally, let's modify the objective by adding the sum of `over_worked and under_worked` to the previous objective.\n\n**Note:** The definitions of `over_worked` and `under_worked` as described above are not sufficient to give them an unambiguous value. However, as all these variables are minimized, CPLEX ensures that these variables take the minimum possible values in the solution."
        },
        {
            "metadata": {},
            "cell_type": "code",
            "source": "mdl.minimize(total_salary_cost + total_overw + total_underw)  # incorporate over_worked and under_worked in objective",
            "execution_count": 39,
            "outputs": []
        },
        {
            "metadata": {},
            "cell_type": "markdown",
            "source": "Our modified model is ready to solve. \n\nThe `log_output=True` parameter tells CPLEX to print the log on the standard output."
        },
        {
            "metadata": {},
            "cell_type": "code",
            "source": "sol2 = mdl.solve(log_output=True)  # solve again and get a new solution\nassert sol2, \"Solve failed\"\nmdl.report()",
            "execution_count": 40,
            "outputs": [
                {
                    "name": "stdout",
                    "output_type": "stream",
                    "text": "WARNING: Number of workers has been reduced to 2 to comply with platform limitations.\nCPXPARAM_Read_DataCheck                          1\nCPXPARAM_Threads                                 2\nCPXPARAM_MIP_Tolerances_MIPGap                   1.0000000000000001e-05\n1 of 7 MIP starts provided solutions.\nMIP start 'm1' defined initial solution with objective 28842.2500.\nTried aggregator 2 times.\nMIP Presolve eliminated 997 rows and 379 columns.\nMIP Presolve modified 90 coefficients.\nAggregator did 73 substitutions.\nReduced MIP has 582 rows, 986 columns, and 3859 nonzeros.\nReduced MIP has 892 binaries, 0 generals, 0 SOSs, and 0 indicators.\nPresolve time = 0.01 sec. (4.35 ticks)\nProbing time = 0.00 sec. (0.59 ticks)\nTried aggregator 1 time.\nMIP Presolve eliminated 2 rows and 4 columns.\nReduced MIP has 580 rows, 982 columns, and 3814 nonzeros.\nReduced MIP has 892 binaries, 30 generals, 0 SOSs, and 0 indicators.\nPresolve time = 0.01 sec. (2.41 ticks)\nProbing time = 0.00 sec. (0.58 ticks)\nClique table members: 479.\nMIP emphasis: balance optimality and feasibility.\nMIP search method: dynamic search.\nParallel mode: deterministic, using up to 2 threads.\nRoot relaxation solution time = 0.02 sec. (11.48 ticks)\n\n        Nodes                                         Cuts/\n   Node  Left     Objective  IInf  Best Integer    Best Bound    ItCnt     Gap\n\n*     0+    0                        28842.2500        0.0000           100.00%\n      0     0    28827.9167    76    28842.2500    28827.9167      885    0.05%\n      0     0    28829.2500    59    28842.2500      Cuts: 92     1052    0.05%\n      0     0    28830.1250    71    28842.2500     Cuts: 110     1366    0.04%\n      0     0    28831.0000    66    28842.2500      Cuts: 68     1511    0.04%\n      0     0    28831.0000    39    28842.2500      Cuts: 58     1630    0.04%\n      0     0    28831.0000    41    28842.2500      Cuts: 24     1698    0.04%\n      0     0    28831.0000    27    28842.2500      Cuts: 10     1768    0.04%\n      0     0    28831.0000    77    28842.2500      Cuts: 53     1916    0.04%\n*     0+    0                        28840.5000    28831.0000             0.03%\n      0     2    28831.0000    12    28840.5000    28831.0000     1916    0.03%\nElapsed time = 0.40 sec. (237.97 ticks, tree = 0.02 MB, solutions = 2)\n*   121+   86                        28831.0000    28831.0000             0.00%\n\nGUB cover cuts applied:  21\nCover cuts applied:  7\nFlow cuts applied:  26\nMixed integer rounding cuts applied:  63\nZero-half cuts applied:  17\nLift and project cuts applied:  1\nGomory fractional cuts applied:  3\n\nRoot node processing (before b&c):\n  Real time             =    0.40 sec. (237.58 ticks)\nParallel b&c, 2 threads:\n  Real time             =    0.15 sec. (115.43 ticks)\n  Sync time (average)   =    0.01 sec.\n  Wait time (average)   =    0.00 sec.\n                          ------------\nTotal (root+branch&cut) =    0.55 sec. (353.01 ticks)\n* model nurses solved with objective = 28831.000\n*  KPI: Total salary cost  = 28824.000\n*  KPI: Total over-worked  = 3.500\n*  KPI: Total under-worked = 3.500\n"
                }
            ]
        },
        {
            "metadata": {},
            "cell_type": "markdown",
            "source": "### Analyzing new results\n\nLet's recompute the new total deviation from average on this new solution."
        },
        {
            "metadata": {},
            "cell_type": "code",
            "source": "# Create a pandas Series containing actual shift assignment decision variables value\ns_assigned2 = df_assigned.assigned.apply(lambda v: v.solution_value)\n\n# Create a pivot table by (nurses, shifts), using pandas' \"unstack\" method to transform the 'all_shifts' row index\n#  into columns\ndf_res2 = s_assigned2.unstack(level='all_shifts')\n\n# Add a new column to the pivot table containing the #shifts worked by summing over each row\ndf_res2[\"worked\"] = df_res2[all_shifts].sum(axis=1)\n\n# total absolute deviation from average is directly read on expressions\nnew_total_to_mean = total_overw.solution_value + total_underw.solution_value\nprint(\"-- total absolute deviation to mean #shifts is now {0} down from {1}\".format(new_total_to_mean, total_to_mean))\n\n# Display the first few rows of the result Data Frame\ndf_res2.head()",
            "execution_count": 41,
            "outputs": [
                {
                    "name": "stdout",
                    "output_type": "stream",
                    "text": "-- total absolute deviation to mean #shifts is now 7.0 down from 18.25\n"
                },
                {
                    "data": {
                        "text/html": "<div>\n<style scoped>\n    .dataframe tbody tr th:only-of-type {\n        vertical-align: middle;\n    }\n\n    .dataframe tbody tr th {\n        vertical-align: top;\n    }\n\n    .dataframe thead th {\n        text-align: right;\n    }\n</style>\n<table border=\"1\" class=\"dataframe\">\n  <thead>\n    <tr style=\"text-align: right;\">\n      <th>all_shifts</th>\n      <th>0</th>\n      <th>1</th>\n      <th>2</th>\n      <th>3</th>\n      <th>4</th>\n      <th>5</th>\n      <th>6</th>\n      <th>7</th>\n      <th>8</th>\n      <th>9</th>\n      <th>...</th>\n      <th>32</th>\n      <th>33</th>\n      <th>34</th>\n      <th>35</th>\n      <th>36</th>\n      <th>37</th>\n      <th>38</th>\n      <th>39</th>\n      <th>40</th>\n      <th>worked</th>\n    </tr>\n    <tr>\n      <th>all_nurses</th>\n      <th></th>\n      <th></th>\n      <th></th>\n      <th></th>\n      <th></th>\n      <th></th>\n      <th></th>\n      <th></th>\n      <th></th>\n      <th></th>\n      <th></th>\n      <th></th>\n      <th></th>\n      <th></th>\n      <th></th>\n      <th></th>\n      <th></th>\n      <th></th>\n      <th></th>\n      <th></th>\n      <th></th>\n    </tr>\n  </thead>\n  <tbody>\n    <tr>\n      <th>Anne</th>\n      <td>0.0</td>\n      <td>1.0</td>\n      <td>1.0</td>\n      <td>0.0</td>\n      <td>0.0</td>\n      <td>0.0</td>\n      <td>0.0</td>\n      <td>0.0</td>\n      <td>0.0</td>\n      <td>0.0</td>\n      <td>...</td>\n      <td>0.0</td>\n      <td>0.0</td>\n      <td>0.0</td>\n      <td>0.0</td>\n      <td>0.0</td>\n      <td>0.0</td>\n      <td>0.0</td>\n      <td>0.0</td>\n      <td>0.0</td>\n      <td>7.0</td>\n    </tr>\n    <tr>\n      <th>Bethanie</th>\n      <td>1.0</td>\n      <td>0.0</td>\n      <td>0.0</td>\n      <td>1.0</td>\n      <td>1.0</td>\n      <td>0.0</td>\n      <td>0.0</td>\n      <td>0.0</td>\n      <td>0.0</td>\n      <td>0.0</td>\n      <td>...</td>\n      <td>1.0</td>\n      <td>0.0</td>\n      <td>0.0</td>\n      <td>0.0</td>\n      <td>0.0</td>\n      <td>0.0</td>\n      <td>0.0</td>\n      <td>0.0</td>\n      <td>0.0</td>\n      <td>7.0</td>\n    </tr>\n    <tr>\n      <th>Betsy</th>\n      <td>0.0</td>\n      <td>0.0</td>\n      <td>0.0</td>\n      <td>0.0</td>\n      <td>0.0</td>\n      <td>0.0</td>\n      <td>0.0</td>\n      <td>0.0</td>\n      <td>0.0</td>\n      <td>0.0</td>\n      <td>...</td>\n      <td>1.0</td>\n      <td>1.0</td>\n      <td>1.0</td>\n      <td>0.0</td>\n      <td>1.0</td>\n      <td>1.0</td>\n      <td>0.0</td>\n      <td>0.0</td>\n      <td>0.0</td>\n      <td>6.0</td>\n    </tr>\n    <tr>\n      <th>Cathy</th>\n      <td>0.0</td>\n      <td>0.0</td>\n      <td>0.0</td>\n      <td>0.0</td>\n      <td>0.0</td>\n      <td>0.0</td>\n      <td>1.0</td>\n      <td>0.0</td>\n      <td>0.0</td>\n      <td>0.0</td>\n      <td>...</td>\n      <td>1.0</td>\n      <td>0.0</td>\n      <td>0.0</td>\n      <td>1.0</td>\n      <td>1.0</td>\n      <td>0.0</td>\n      <td>1.0</td>\n      <td>0.0</td>\n      <td>0.0</td>\n      <td>7.0</td>\n    </tr>\n    <tr>\n      <th>Cecilia</th>\n      <td>0.0</td>\n      <td>0.0</td>\n      <td>0.0</td>\n      <td>0.0</td>\n      <td>1.0</td>\n      <td>1.0</td>\n      <td>0.0</td>\n      <td>0.0</td>\n      <td>0.0</td>\n      <td>0.0</td>\n      <td>...</td>\n      <td>0.0</td>\n      <td>0.0</td>\n      <td>0.0</td>\n      <td>0.0</td>\n      <td>0.0</td>\n      <td>0.0</td>\n      <td>0.0</td>\n      <td>0.0</td>\n      <td>0.0</td>\n      <td>6.0</td>\n    </tr>\n  </tbody>\n</table>\n<p>5 rows \u00d7 42 columns</p>\n</div>",
                        "text/plain": "all_shifts    0    1    2    3    4    5    6    7    8    9  ...   32   33  \\\nall_nurses                                                    ...             \nAnne        0.0  1.0  1.0  0.0  0.0  0.0  0.0  0.0  0.0  0.0  ...  0.0  0.0   \nBethanie    1.0  0.0  0.0  1.0  1.0  0.0  0.0  0.0  0.0  0.0  ...  1.0  0.0   \nBetsy       0.0  0.0  0.0  0.0  0.0  0.0  0.0  0.0  0.0  0.0  ...  1.0  1.0   \nCathy       0.0  0.0  0.0  0.0  0.0  0.0  1.0  0.0  0.0  0.0  ...  1.0  0.0   \nCecilia     0.0  0.0  0.0  0.0  1.0  1.0  0.0  0.0  0.0  0.0  ...  0.0  0.0   \n\nall_shifts   34   35   36   37   38   39   40  worked  \nall_nurses                                             \nAnne        0.0  0.0  0.0  0.0  0.0  0.0  0.0     7.0  \nBethanie    0.0  0.0  0.0  0.0  0.0  0.0  0.0     7.0  \nBetsy       1.0  0.0  1.0  1.0  0.0  0.0  0.0     6.0  \nCathy       0.0  1.0  1.0  0.0  1.0  0.0  0.0     7.0  \nCecilia     0.0  0.0  0.0  0.0  0.0  0.0  0.0     6.0  \n\n[5 rows x 42 columns]"
                    },
                    "execution_count": 41,
                    "metadata": {},
                    "output_type": "execute_result"
                }
            ]
        },
        {
            "metadata": {},
            "cell_type": "markdown",
            "source": "Let's print the new histogram of shifts worked."
        },
        {
            "metadata": {},
            "cell_type": "code",
            "source": "df_res2[\"worked\"].plot(kind=\"hist\", color=\"gold\", xlim=(3,8))",
            "execution_count": 42,
            "outputs": [
                {
                    "data": {
                        "text/plain": "<matplotlib.axes._subplots.AxesSubplot at 0x7fa36d098d30>"
                    },
                    "execution_count": 42,
                    "metadata": {},
                    "output_type": "execute_result"
                },
                {
                    "data": {
                        "image/png": "[encoded data removed]",
                        "text/plain": "<Figure size 432x288 with 1 Axes>"
                    },
                    "metadata": {
                        "needs_background": "light"
                    },
                    "output_type": "display_data"
                }
            ]
        },
        {
            "metadata": {},
            "cell_type": "markdown",
            "source": "##### The breakdown of shifts over nurses is much closer to the average than it was in the previous version."
        },
        {
            "metadata": {},
            "cell_type": "markdown",
            "source": "### But what would be the minimal fairness level?\n\nBut what is the absolute minimum for the deviation to the ideal average number of shifts?\nCPLEX can tell us: simply minimize only the the total deviation from average, ignoring the salary cost.\nOf course this is unrealistic, but it will help us quantify how far our fairness result is to the\nabsolute optimal fairness.\n\nWe modify the objective and solve for the third time."
        },
        {
            "metadata": {},
            "cell_type": "code",
            "source": "mdl.minimize(total_overw + total_underw)\nassert mdl.solve(), \"solve failed\"\nmdl.report()",
            "execution_count": 43,
            "outputs": [
                {
                    "name": "stdout",
                    "output_type": "stream",
                    "text": "* model nurses solved with objective = 4.000\n*  KPI: Total salary cost  = 29576.000\n*  KPI: Total over-worked  = 4.000\n*  KPI: Total under-worked = 0.000\n"
                }
            ]
        },
        {
            "metadata": {},
            "cell_type": "markdown",
            "source": "In the fairness-optimal solution, we have zero under-average shifts and 4 over-average.\nSalary cost is now higher than the previous value of 28884 but this was expected as salary cost was not part of the objective.\n\nTo summarize, the absolute minimum for this measure of fairness is 4, and we have found a balance with fairness=7.\n\nFinally, we display the histogram for this optimal-fairness solution."
        },
        {
            "metadata": {},
            "cell_type": "code",
            "source": "# Create a pandas Series containing actual shift assignment decision variables value\ns_assigned_fair = df_assigned.assigned.apply(lambda v: v.solution_value)\n\n# Create a pivot table by (nurses, shifts), using pandas' \"unstack\" method to transform the 'all_shifts' row index\n#  into columns\ndf_res_fair = s_assigned_fair.unstack(level='all_shifts')\n\n# Add a new column to the pivot table containing the #shifts worked by summing over each row\ndf_res_fair[\"solution_value_fair\"] = df_res_fair[all_shifts].sum(axis=1)\ndf_res_fair[\"worked\"] = df_res_fair[all_shifts].sum(axis=1)\ndf_res_fair[\"worked\"].plot.hist(color=\"plum\", xlim=(3,8))",
            "execution_count": 44,
            "outputs": [
                {
                    "data": {
                        "text/plain": "<matplotlib.axes._subplots.AxesSubplot at 0x7fa36d08d748>"
                    },
                    "execution_count": 44,
                    "metadata": {},
                    "output_type": "execute_result"
                },
                {
                    "data": {
                        "image/png": "[encoded data removed]",
                        "text/plain": "<Figure size 432x288 with 1 Axes>"
                    },
                    "metadata": {
                        "needs_background": "light"
                    },
                    "output_type": "display_data"
                }
            ]
        },
        {
            "metadata": {},
            "cell_type": "markdown",
            "source": "In the above figure, all nurses but one are assigned the average of 7 shifts, which is what we expected.\n\n## Summary\n\nYou have learned how to set up, formulate and solve an optimization model using Decision Optimization in Watson Studio."
        }
    ],
    "metadata": {
        "kernelspec": {
            "name": "python3",
            "display_name": "Python 3.6",
            "language": "python"
        },
        "language_info": {
            "name": "python",
            "version": "3.6.8",
            "mimetype": "text/x-python",
            "codemirror_mode": {
                "name": "ipython",
                "version": 3
            },
            "pygments_lexer": "ipython3",
            "nbconvert_exporter": "python",
            "file_extension": ".py"
        }
    },
    "nbformat": 4,
    "nbformat_minor": 1
}