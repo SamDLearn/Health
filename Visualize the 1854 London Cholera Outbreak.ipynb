{
    "cells": [
        {
            "metadata": {
                "collapsed": true
            },
            "cell_type": "markdown",
            "source": "# Visualize the 1854 London Cholera Outbreak"
        },
        {
            "metadata": {},
            "cell_type": "markdown",
            "source": "Visualize data from 1854 which later led to improved sanitary conditions and health worldwide by proving that cholera was a waterborne disease.\n\nThis notebook runs on R 3.4 with Spark."
        },
        {
            "metadata": {},
            "cell_type": "markdown",
            "source": "## Table of contents\n\n1. [Background](#background)\n2. [Install the R packages](#install)\n3. [Visualize the rise of the outbreak](#rise)\n4. [Plot deaths against sources of drinking water](#drinkingwater)\n5. [Analyze the results of the action taken by Dr. Snow](#analyze)\n"
        },
        {
            "metadata": {},
            "cell_type": "markdown",
            "source": "## 1. Background<a id=\"background\"></a>"
        },
        {
            "metadata": {},
            "cell_type": "markdown",
            "source": "In 1854, a deadly cholera outbreak occurred in the Soho district of London, England.  By the time the outbreak had ended, 616 people had died in just over a month.  The medical community at the time was divided about the causes of cholera.  Some believed that the illness was airborne, whereas Dr. John Snow believed that it was water borne. To prove his theory, Dr. Snow began collecting data about water sources, the number of deaths, the dates of these deaths, etc.  \n\nIn this analysis, we step into the good doctor's shoes and walk in his footsteps. We also prove the value in visualizing data, especially geospatial data which is so readily available today due to the advent of sensors and drones.\n\nFor more information, see:\n- <a href=\"https://en.wikipedia.org/wiki/John_Snow\" target=\"_blank\" rel=\"noopener no referrer\">Dr. John Snow</a>\n- <a href=\"https://en.wikipedia.org/wiki/1854_Broad_Street_cholera_outbreak\" target=\"_blank\" rel=\"noopener no referrer\">The 1854 London Cholera Outbreak</a>  \n\nThis analysis uses materials sourced from the \"HistData\" R package, which is available under a GPL license. For more information about the \"HistData\" package, see <a href=\"https://cran.r-project.org/web/packages/HistData/HistData.pdf\" target=\"_blank\" rel=\"noopener no referrer\">here</a>."
        },
        {
            "metadata": {},
            "cell_type": "markdown",
            "source": "## 2. Install the R packages<a id=\"install\"></a>\n\nInstall the following R packages for this analysis:\n* HistData\n* Lubridate\n* KernSmooth\n* sp\n\nThe following cell installs these packages.  If you already have these packages installed, you can skip this step."
        },
        {
            "metadata": {},
            "cell_type": "code",
            "source": "install.packages(\"lubridate\")\nlibrary(lubridate)\ninstall.packages(\"HistData\")\nlibrary(HistData)\ninstall.packages(\"KernSmooth\")\nlibrary(KernSmooth)\ninstall.packages(\"sp\")\nlibrary(sp)",
            "execution_count": null,
            "outputs": []
        },
        {
            "metadata": {},
            "cell_type": "markdown",
            "source": "## 3. Visualize the rise of the outbreak<a id=\"rise\"></a>\n\nWe begin our analysis by visualizing the stunning rise in the number of deaths from cholera.  While people had begun dying in and around the Broad Street area around the 19th of August, the outbreak really began taking a heavy toll starting on 31 August 1854. Over the next 3 days, 127 people on or near Broad Street died. \n\nThe heavy death toll continued over the next few days although the number of deaths on a daily basis started to reduce from its peak on 2 September 1854 (mostly driven by mass evacuations of people from the Broad Street area).  \n\nWe can plot the number of deaths during this time in the following chart:"
        },
        {
            "metadata": {
                "scrolled": true
            },
            "cell_type": "code",
            "source": "## Plot deaths over time\nrange <- Snow.dates[1:20,]\nplot(deaths ~ date, data=range, type=\"h\", lwd=2, col=\"red\")\npoints(deaths ~ date, data=range, cex=0.5, pch=16, col=\"red\")",
            "execution_count": null,
            "outputs": []
        },
        {
            "metadata": {},
            "cell_type": "markdown",
            "source": "## 4. Plot deaths against sources of drinking water<a id=\"drinkingwater\"></a>\n\nBased on John Snow's map and data, we plot the deaths against the location of the drinking water sources (wells), as follows:"
        },
        {
            "metadata": {},
            "cell_type": "code",
            "source": "SnowMap()",
            "execution_count": null,
            "outputs": []
        },
        {
            "metadata": {},
            "cell_type": "markdown",
            "source": "In the chart above: \n- The <font color=blue>blue</font> triangles are the wells\n- The <font color=red>red</font> dots show where people died  \n\nThe charts shows that many of the deaths occured in and around the Broad Street well.  \nWe can examine this more closely in the following chart which marks out the population areas that each of these wells serve:"
        },
        {
            "metadata": {},
            "cell_type": "code",
            "source": "# add polygons\nSnowMap(polygons=TRUE, main=\"Snow's Cholera Map with Well Polygons\")",
            "execution_count": null,
            "outputs": []
        },
        {
            "metadata": {},
            "cell_type": "markdown",
            "source": "We can zoom into this chart and create a heat map to highlight the area around the Broad Street well:"
        },
        {
            "metadata": {},
            "cell_type": "code",
            "source": "# zoom in a bit, and show density estimate\nSnowMap(xlim=c(7.5,16.5), ylim=c(7,16), polygons=TRUE, density=TRUE,\nmain=\"Snow's Cholera Map, Annotated\")",
            "execution_count": null,
            "outputs": []
        },
        {
            "metadata": {},
            "cell_type": "markdown",
            "source": "## 5. Analyze the results of the action taken by Dr. Snow<a id=\"analyze\"></a>\n\nBased on the analysis above, Dr. Snow hypothesized that the water from the Broad Street well was contaminated and was the prime cause for the spread of cholera.  \n\nHe was able to convince the local authorities to disable the Broad Street well by removing its handle. The well's handle was removed on 8 September 1854."
        },
        {
            "metadata": {},
            "cell_type": "markdown",
            "source": "### 5. 1 Plot the number of deaths over time\n\nTo examine the results of the action taken by Dr. Snow and the local authorities, we plot the number of deaths over time again; but this time we include data after the well's handle was removed."
        },
        {
            "metadata": {},
            "cell_type": "code",
            "source": "## Plot deaths over time\nrequire(lubridate)\nclr <- ifelse(Snow.dates$date < mdy(\"09/08/1854\"), \"red\", \"darkgreen\")\nplot(deaths ~ date, data=Snow.dates, type=\"h\", lwd=2, col=clr)\npoints(deaths ~ date, data=Snow.dates, cex=0.5, pch=16, col=clr)\ntext( mdy(\"09/08/1854\"), 40, \"Pump handle\\nremoved Sept. 8\", pos=4)",
            "execution_count": null,
            "outputs": []
        },
        {
            "metadata": {},
            "cell_type": "markdown",
            "source": "As can be seen from the chart above, there was a remarkable reduction in the number of deaths from cholera after 8 September 1854 and the cholera outbreak eventually came to an end.  \n\nIn part because of his work in tracing the source of the cholera outbreak, Dr. John Snow is considered as one of the fathers of modern epidemiology, which is the study and analysis of patterns, causes and effects of health and disease conditions in defined populations[[1]](https://en.wikipedia.org/wiki/John_Snow)."
        }
    ],
    "metadata": {
        "kernelspec": {
            "name": "r-3.6",
            "display_name": "R 3.6",
            "language": "R"
        },
        "language_info": {
            "name": "R",
            "codemirror_mode": "r",
            "pygments_lexer": "r",
            "mimetype": "text/x-r-source",
            "file_extension": ".r",
            "version": "3.6.0"
        }
    },
    "nbformat": 4,
    "nbformat_minor": 1
}